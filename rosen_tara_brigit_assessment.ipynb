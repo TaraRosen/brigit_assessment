{
 "cells": [
  {
   "cell_type": "code",
   "execution_count": 341,
   "metadata": {},
   "outputs": [],
   "source": [
    "#import packages\n",
    "import pandas as pd\n",
    "import seaborn as sns\n",
    "import matplotlib.pyplot as plt"
   ]
  },
  {
   "cell_type": "code",
   "execution_count": 3,
   "metadata": {},
   "outputs": [],
   "source": [
    "# read in file and create dataframe\n",
    "df = pd.read_csv('advance_tape.csv')"
   ]
  },
  {
   "cell_type": "markdown",
   "metadata": {},
   "source": [
    "Please analyze the data and provide us insights about our advance originations and\n",
    "performance data. Produce a light report on your findings.\n",
    "Here are examples of questions we are looking for within the data:\n",
    "1. Default rates by loan amount\n",
    "2. Advance originations by different segmentations"
   ]
  },
  {
   "cell_type": "markdown",
   "metadata": {},
   "source": [
    "## Exploratoy Data Analysis"
   ]
  },
  {
   "cell_type": "code",
   "execution_count": 4,
   "metadata": {
    "scrolled": true
   },
   "outputs": [
    {
     "data": {
      "text/html": [
       "<div>\n",
       "<style scoped>\n",
       "    .dataframe tbody tr th:only-of-type {\n",
       "        vertical-align: middle;\n",
       "    }\n",
       "\n",
       "    .dataframe tbody tr th {\n",
       "        vertical-align: top;\n",
       "    }\n",
       "\n",
       "    .dataframe thead th {\n",
       "        text-align: right;\n",
       "    }\n",
       "</style>\n",
       "<table border=\"1\" class=\"dataframe\">\n",
       "  <thead>\n",
       "    <tr style=\"text-align: right;\">\n",
       "      <th></th>\n",
       "      <th>user_id</th>\n",
       "      <th>id</th>\n",
       "      <th>origination_date</th>\n",
       "      <th>amount</th>\n",
       "      <th>banks</th>\n",
       "      <th>location_state</th>\n",
       "      <th>default_flag</th>\n",
       "      <th>pay_frequency</th>\n",
       "    </tr>\n",
       "  </thead>\n",
       "  <tbody>\n",
       "    <tr>\n",
       "      <td>0</td>\n",
       "      <td>00005d618</td>\n",
       "      <td>dab032b8f</td>\n",
       "      <td>2018-09-18</td>\n",
       "      <td>170</td>\n",
       "      <td>Citi</td>\n",
       "      <td>NY</td>\n",
       "      <td>1</td>\n",
       "      <td>Monthly</td>\n",
       "    </tr>\n",
       "    <tr>\n",
       "      <td>1</td>\n",
       "      <td>00005d618</td>\n",
       "      <td>ef2879a5d</td>\n",
       "      <td>2018-04-27</td>\n",
       "      <td>130</td>\n",
       "      <td>Wells</td>\n",
       "      <td>TX</td>\n",
       "      <td>0</td>\n",
       "      <td>Irregular</td>\n",
       "    </tr>\n",
       "    <tr>\n",
       "      <td>2</td>\n",
       "      <td>0000759ff</td>\n",
       "      <td>8739db27d</td>\n",
       "      <td>2018-04-26</td>\n",
       "      <td>170</td>\n",
       "      <td>Chime</td>\n",
       "      <td>FL</td>\n",
       "      <td>0</td>\n",
       "      <td>Irregular</td>\n",
       "    </tr>\n",
       "    <tr>\n",
       "      <td>3</td>\n",
       "      <td>0000759ff</td>\n",
       "      <td>4d27ee400</td>\n",
       "      <td>2018-11-02</td>\n",
       "      <td>140</td>\n",
       "      <td>Wells</td>\n",
       "      <td>GA</td>\n",
       "      <td>0</td>\n",
       "      <td>Irregular</td>\n",
       "    </tr>\n",
       "    <tr>\n",
       "      <td>4</td>\n",
       "      <td>0000759ff</td>\n",
       "      <td>18e3eb77d</td>\n",
       "      <td>2018-09-01</td>\n",
       "      <td>170</td>\n",
       "      <td>Chase</td>\n",
       "      <td>CA</td>\n",
       "      <td>0</td>\n",
       "      <td>Monthly</td>\n",
       "    </tr>\n",
       "    <tr>\n",
       "      <td>5</td>\n",
       "      <td>000092b1c</td>\n",
       "      <td>0ff223e62</td>\n",
       "      <td>2018-07-18</td>\n",
       "      <td>150</td>\n",
       "      <td>Wells</td>\n",
       "      <td>CA</td>\n",
       "      <td>0</td>\n",
       "      <td>Irregular</td>\n",
       "    </tr>\n",
       "    <tr>\n",
       "      <td>6</td>\n",
       "      <td>000092b1c</td>\n",
       "      <td>d4e023bab</td>\n",
       "      <td>2018-11-27</td>\n",
       "      <td>120</td>\n",
       "      <td>Chime</td>\n",
       "      <td>FL</td>\n",
       "      <td>0</td>\n",
       "      <td>Weekly</td>\n",
       "    </tr>\n",
       "    <tr>\n",
       "      <td>7</td>\n",
       "      <td>000092b1c</td>\n",
       "      <td>375b599a5</td>\n",
       "      <td>2018-08-18</td>\n",
       "      <td>180</td>\n",
       "      <td>Chase</td>\n",
       "      <td>NY</td>\n",
       "      <td>0</td>\n",
       "      <td>Weekly</td>\n",
       "    </tr>\n",
       "    <tr>\n",
       "      <td>8</td>\n",
       "      <td>000092b1c</td>\n",
       "      <td>cdaa1c0bc</td>\n",
       "      <td>2018-06-03</td>\n",
       "      <td>200</td>\n",
       "      <td>Wells</td>\n",
       "      <td>FL</td>\n",
       "      <td>1</td>\n",
       "      <td>Irregular</td>\n",
       "    </tr>\n",
       "    <tr>\n",
       "      <td>9</td>\n",
       "      <td>000092b1c</td>\n",
       "      <td>cfa53eb7f</td>\n",
       "      <td>2018-12-16</td>\n",
       "      <td>240</td>\n",
       "      <td>Chase</td>\n",
       "      <td>FL</td>\n",
       "      <td>0</td>\n",
       "      <td>Monthly</td>\n",
       "    </tr>\n",
       "  </tbody>\n",
       "</table>\n",
       "</div>"
      ],
      "text/plain": [
       "     user_id         id origination_date  amount  banks location_state  \\\n",
       "0  00005d618  dab032b8f       2018-09-18     170   Citi             NY   \n",
       "1  00005d618  ef2879a5d       2018-04-27     130  Wells             TX   \n",
       "2  0000759ff  8739db27d       2018-04-26     170  Chime             FL   \n",
       "3  0000759ff  4d27ee400       2018-11-02     140  Wells             GA   \n",
       "4  0000759ff  18e3eb77d       2018-09-01     170  Chase             CA   \n",
       "5  000092b1c  0ff223e62       2018-07-18     150  Wells             CA   \n",
       "6  000092b1c  d4e023bab       2018-11-27     120  Chime             FL   \n",
       "7  000092b1c  375b599a5       2018-08-18     180  Chase             NY   \n",
       "8  000092b1c  cdaa1c0bc       2018-06-03     200  Wells             FL   \n",
       "9  000092b1c  cfa53eb7f       2018-12-16     240  Chase             FL   \n",
       "\n",
       "   default_flag pay_frequency  \n",
       "0             1       Monthly  \n",
       "1             0     Irregular  \n",
       "2             0     Irregular  \n",
       "3             0     Irregular  \n",
       "4             0       Monthly  \n",
       "5             0     Irregular  \n",
       "6             0        Weekly  \n",
       "7             0        Weekly  \n",
       "8             1     Irregular  \n",
       "9             0       Monthly  "
      ]
     },
     "execution_count": 4,
     "metadata": {},
     "output_type": "execute_result"
    }
   ],
   "source": [
    "# look at first 10 rows of data\n",
    "df.head(10)"
   ]
  },
  {
   "cell_type": "markdown",
   "metadata": {},
   "source": [
    "### Features:\n",
    "● User_id - Identifier for users\n",
    "● Id - Unique identifier for advances\n",
    "● Origination Date- Date of Advance Origination\n",
    "● Amount - Origination Amount\n",
    "● Location_State - State of Origination of Advance\n",
    "● Banks - Bank of Borrower’s Depository Account\n",
    "● Pay Frequency - Frequency of borrowers paycheck\n",
    "● Default Flag - Advance has defaulted (Not repaid advance)"
   ]
  },
  {
   "cell_type": "code",
   "execution_count": 5,
   "metadata": {},
   "outputs": [
    {
     "data": {
      "text/plain": [
       "(302866, 8)"
      ]
     },
     "execution_count": 5,
     "metadata": {},
     "output_type": "execute_result"
    }
   ],
   "source": [
    "df.shape"
   ]
  },
  {
   "cell_type": "markdown",
   "metadata": {},
   "source": [
    "#### There are 302,866 unique advances and 8 features in this dataset."
   ]
  },
  {
   "cell_type": "code",
   "execution_count": 6,
   "metadata": {},
   "outputs": [
    {
     "name": "stdout",
     "output_type": "stream",
     "text": [
      "<class 'pandas.core.frame.DataFrame'>\n",
      "RangeIndex: 302866 entries, 0 to 302865\n",
      "Data columns (total 8 columns):\n",
      "user_id             302866 non-null object\n",
      "id                  302866 non-null object\n",
      "origination_date    302866 non-null object\n",
      "amount              302866 non-null int64\n",
      "banks               302866 non-null object\n",
      "location_state      302866 non-null object\n",
      "default_flag        302866 non-null int64\n",
      "pay_frequency       302866 non-null object\n",
      "dtypes: int64(2), object(6)\n",
      "memory usage: 18.5+ MB\n"
     ]
    }
   ],
   "source": [
    "df.info()"
   ]
  },
  {
   "cell_type": "code",
   "execution_count": 7,
   "metadata": {
    "scrolled": false
   },
   "outputs": [
    {
     "data": {
      "text/html": [
       "<div>\n",
       "<style scoped>\n",
       "    .dataframe tbody tr th:only-of-type {\n",
       "        vertical-align: middle;\n",
       "    }\n",
       "\n",
       "    .dataframe tbody tr th {\n",
       "        vertical-align: top;\n",
       "    }\n",
       "\n",
       "    .dataframe thead th {\n",
       "        text-align: right;\n",
       "    }\n",
       "</style>\n",
       "<table border=\"1\" class=\"dataframe\">\n",
       "  <thead>\n",
       "    <tr style=\"text-align: right;\">\n",
       "      <th></th>\n",
       "      <th>amount</th>\n",
       "      <th>default_flag</th>\n",
       "    </tr>\n",
       "  </thead>\n",
       "  <tbody>\n",
       "    <tr>\n",
       "      <td>count</td>\n",
       "      <td>302866.000000</td>\n",
       "      <td>302866.000000</td>\n",
       "    </tr>\n",
       "    <tr>\n",
       "      <td>mean</td>\n",
       "      <td>160.166212</td>\n",
       "      <td>0.179142</td>\n",
       "    </tr>\n",
       "    <tr>\n",
       "      <td>std</td>\n",
       "      <td>48.944875</td>\n",
       "      <td>0.383472</td>\n",
       "    </tr>\n",
       "    <tr>\n",
       "      <td>min</td>\n",
       "      <td>80.000000</td>\n",
       "      <td>0.000000</td>\n",
       "    </tr>\n",
       "    <tr>\n",
       "      <td>25%</td>\n",
       "      <td>120.000000</td>\n",
       "      <td>0.000000</td>\n",
       "    </tr>\n",
       "    <tr>\n",
       "      <td>50%</td>\n",
       "      <td>160.000000</td>\n",
       "      <td>0.000000</td>\n",
       "    </tr>\n",
       "    <tr>\n",
       "      <td>75%</td>\n",
       "      <td>200.000000</td>\n",
       "      <td>0.000000</td>\n",
       "    </tr>\n",
       "    <tr>\n",
       "      <td>max</td>\n",
       "      <td>240.000000</td>\n",
       "      <td>1.000000</td>\n",
       "    </tr>\n",
       "  </tbody>\n",
       "</table>\n",
       "</div>"
      ],
      "text/plain": [
       "              amount   default_flag\n",
       "count  302866.000000  302866.000000\n",
       "mean      160.166212       0.179142\n",
       "std        48.944875       0.383472\n",
       "min        80.000000       0.000000\n",
       "25%       120.000000       0.000000\n",
       "50%       160.000000       0.000000\n",
       "75%       200.000000       0.000000\n",
       "max       240.000000       1.000000"
      ]
     },
     "execution_count": 7,
     "metadata": {},
     "output_type": "execute_result"
    }
   ],
   "source": [
    "df.describe()"
   ]
  },
  {
   "cell_type": "code",
   "execution_count": 8,
   "metadata": {
    "scrolled": true
   },
   "outputs": [
    {
     "data": {
      "text/plain": [
       "user_id             0\n",
       "id                  0\n",
       "origination_date    0\n",
       "amount              0\n",
       "banks               0\n",
       "location_state      0\n",
       "default_flag        0\n",
       "pay_frequency       0\n",
       "dtype: int64"
      ]
     },
     "execution_count": 8,
     "metadata": {},
     "output_type": "execute_result"
    }
   ],
   "source": [
    "# check for any null values\n",
    "df.isnull().sum()"
   ]
  },
  {
   "cell_type": "markdown",
   "metadata": {},
   "source": [
    "#### Data appears to be clean with no Null values that need to be handled."
   ]
  },
  {
   "cell_type": "code",
   "execution_count": 9,
   "metadata": {},
   "outputs": [],
   "source": [
    "# convert origination_date to datetime\n",
    "df['origination_date'] = pd.to_datetime(df['origination_date'])"
   ]
  },
  {
   "cell_type": "code",
   "execution_count": 314,
   "metadata": {},
   "outputs": [
    {
     "name": "stdout",
     "output_type": "stream",
     "text": [
      "2018-01-01 00:00:00\n",
      "2018-12-31 00:00:00\n"
     ]
    }
   ],
   "source": [
    "# date range\n",
    "print(df['origination_date'].min())\n",
    "print(df['origination_date'].max())"
   ]
  },
  {
   "cell_type": "code",
   "execution_count": 21,
   "metadata": {},
   "outputs": [
    {
     "name": "stdout",
     "output_type": "stream",
     "text": [
      "0    248610\n",
      "1     54256\n",
      "Name: default_flag, dtype: int64\n",
      "Default Percentage: 17.91\n"
     ]
    }
   ],
   "source": [
    "# number of defaults and default percentage\n",
    "print(df['default_flag'].value_counts())\n",
    "print('Default Percentage: ' + (str(round(df['default_flag'].mean()*100, 2))))"
   ]
  },
  {
   "cell_type": "code",
   "execution_count": 11,
   "metadata": {
    "scrolled": true
   },
   "outputs": [
    {
     "data": {
      "text/plain": [
       "user_id              94009\n",
       "id                  302866\n",
       "origination_date       365\n",
       "amount                  17\n",
       "banks                    5\n",
       "location_state           5\n",
       "default_flag             2\n",
       "pay_frequency            4\n",
       "dtype: int64"
      ]
     },
     "execution_count": 11,
     "metadata": {},
     "output_type": "execute_result"
    }
   ],
   "source": [
    "# Inspecting the unique values found in columns\n",
    "df.nunique()"
   ]
  },
  {
   "cell_type": "code",
   "execution_count": 159,
   "metadata": {},
   "outputs": [
    {
     "data": {
      "text/plain": [
       "302866"
      ]
     },
     "execution_count": 159,
     "metadata": {},
     "output_type": "execute_result"
    }
   ],
   "source": [
    "# confirming that the id values are unique\n",
    "len(df['id'].unique())"
   ]
  },
  {
   "cell_type": "code",
   "execution_count": 333,
   "metadata": {},
   "outputs": [
    {
     "data": {
      "text/plain": [
       "94009"
      ]
     },
     "execution_count": 333,
     "metadata": {},
     "output_type": "execute_result"
    }
   ],
   "source": [
    "# confirming that the user_id values are unique\n",
    "len(df['user_id'].unique())"
   ]
  },
  {
   "cell_type": "markdown",
   "metadata": {},
   "source": [
    "#### There are 94,009 individual users while there are 302,866 advances."
   ]
  },
  {
   "cell_type": "code",
   "execution_count": 13,
   "metadata": {},
   "outputs": [
    {
     "data": {
      "text/plain": [
       "array([170, 130, 140, 150, 120, 180, 200, 240, 220, 110, 210, 230,  80,\n",
       "       160, 190,  90, 100])"
      ]
     },
     "execution_count": 13,
     "metadata": {},
     "output_type": "execute_result"
    }
   ],
   "source": [
    "# unique bank values\n",
    "df['amount'].unique()"
   ]
  },
  {
   "cell_type": "code",
   "execution_count": 41,
   "metadata": {},
   "outputs": [
    {
     "name": "stdout",
     "output_type": "stream",
     "text": [
      "80\n",
      "240\n"
     ]
    }
   ],
   "source": [
    "# minimum and maximum loan amounts\n",
    "print(df['amount'].min())\n",
    "print(df['amount'].max())"
   ]
  },
  {
   "cell_type": "code",
   "execution_count": 336,
   "metadata": {
    "scrolled": false
   },
   "outputs": [
    {
     "data": {
      "text/plain": [
       "amount\n",
       "80     17568\n",
       "90     17736\n",
       "100    18007\n",
       "110    17501\n",
       "120    17826\n",
       "130    17618\n",
       "140    17851\n",
       "150    18007\n",
       "160    17826\n",
       "170    17818\n",
       "180    17867\n",
       "190    17896\n",
       "200    17819\n",
       "210    18001\n",
       "220    17857\n",
       "230    17863\n",
       "240    17805\n",
       "Name: id, dtype: int64"
      ]
     },
     "execution_count": 336,
     "metadata": {},
     "output_type": "execute_result"
    }
   ],
   "source": [
    "# total number of advances per loan amount\n",
    "df.groupby([\"amount\"])['id'].count()"
   ]
  },
  {
   "cell_type": "code",
   "execution_count": 351,
   "metadata": {},
   "outputs": [
    {
     "data": {
      "text/plain": [
       "amount  default_flag\n",
       "80      0               14390\n",
       "        1                3178\n",
       "90      0               14596\n",
       "        1                3140\n",
       "100     0               14758\n",
       "        1                3249\n",
       "110     0               14387\n",
       "        1                3114\n",
       "120     0               14547\n",
       "        1                3279\n",
       "130     0               14487\n",
       "        1                3131\n",
       "140     0               14568\n",
       "        1                3283\n",
       "150     0               14767\n",
       "        1                3240\n",
       "160     0               14637\n",
       "        1                3189\n",
       "170     0               14583\n",
       "        1                3235\n",
       "180     0               14679\n",
       "        1                3188\n",
       "190     0               14797\n",
       "        1                3099\n",
       "200     0               14710\n",
       "        1                3109\n",
       "210     0               14794\n",
       "        1                3207\n",
       "220     0               14661\n",
       "        1                3196\n",
       "230     0               14545\n",
       "        1                3318\n",
       "240     0               14704\n",
       "        1                3101\n",
       "Name: id, dtype: int64"
      ]
     },
     "execution_count": 351,
     "metadata": {},
     "output_type": "execute_result"
    }
   ],
   "source": [
    "# total number of defaults per loan amount\n",
    "df.groupby([\"amount\", 'default_flag'])['id'].count()"
   ]
  },
  {
   "cell_type": "code",
   "execution_count": 14,
   "metadata": {},
   "outputs": [
    {
     "data": {
      "text/plain": [
       "array(['Citi', 'Wells', 'Chime', 'Chase', 'Goliath'], dtype=object)"
      ]
     },
     "execution_count": 14,
     "metadata": {},
     "output_type": "execute_result"
    }
   ],
   "source": [
    "# unique bank values\n",
    "df['banks'].unique()"
   ]
  },
  {
   "cell_type": "code",
   "execution_count": 347,
   "metadata": {
    "scrolled": false
   },
   "outputs": [
    {
     "data": {
      "text/plain": [
       "banks\n",
       "Chase      76121\n",
       "Chime      30012\n",
       "Citi       45515\n",
       "Goliath    90942\n",
       "Wells      60276\n",
       "Name: id, dtype: int64"
      ]
     },
     "execution_count": 347,
     "metadata": {},
     "output_type": "execute_result"
    }
   ],
   "source": [
    "# total number of advances per banks\n",
    "df.groupby([\"banks\"])['id'].count()"
   ]
  },
  {
   "cell_type": "code",
   "execution_count": 354,
   "metadata": {},
   "outputs": [
    {
     "data": {
      "text/plain": [
       "banks    default_flag\n",
       "Chase    0               62551\n",
       "         1               13570\n",
       "Chime    0               24578\n",
       "         1                5434\n",
       "Citi     0               37356\n",
       "         1                8159\n",
       "Goliath  0               74575\n",
       "         1               16367\n",
       "Wells    0               49550\n",
       "         1               10726\n",
       "Name: id, dtype: int64"
      ]
     },
     "execution_count": 354,
     "metadata": {},
     "output_type": "execute_result"
    }
   ],
   "source": [
    "# total number of defaults per bank\n",
    "df.groupby([\"banks\", 'default_flag'])['id'].count()"
   ]
  },
  {
   "cell_type": "code",
   "execution_count": 15,
   "metadata": {},
   "outputs": [
    {
     "data": {
      "text/plain": [
       "array(['NY', 'TX', 'FL', 'GA', 'CA'], dtype=object)"
      ]
     },
     "execution_count": 15,
     "metadata": {},
     "output_type": "execute_result"
    }
   ],
   "source": [
    "# unique state values\n",
    "df['location_state'].unique()"
   ]
  },
  {
   "cell_type": "code",
   "execution_count": 346,
   "metadata": {
    "scrolled": true
   },
   "outputs": [
    {
     "data": {
      "text/plain": [
       "location_state\n",
       "CA    76116\n",
       "FL    60454\n",
       "GA    30189\n",
       "NY    45301\n",
       "TX    90806\n",
       "Name: id, dtype: int64"
      ]
     },
     "execution_count": 346,
     "metadata": {},
     "output_type": "execute_result"
    }
   ],
   "source": [
    "# total number of advances per state\n",
    "df.groupby([\"location_state\"])['id'].count()"
   ]
  },
  {
   "cell_type": "code",
   "execution_count": 353,
   "metadata": {},
   "outputs": [
    {
     "data": {
      "text/plain": [
       "location_state  default_flag\n",
       "CA              0               63487\n",
       "                1               12629\n",
       "FL              0               50385\n",
       "                1               10069\n",
       "GA              0               25135\n",
       "                1                5054\n",
       "NY              0               33876\n",
       "                1               11425\n",
       "TX              0               75727\n",
       "                1               15079\n",
       "Name: id, dtype: int64"
      ]
     },
     "execution_count": 353,
     "metadata": {},
     "output_type": "execute_result"
    }
   ],
   "source": [
    "# total number of defaults per state\n",
    "df.groupby([\"location_state\", 'default_flag'])['id'].count()"
   ]
  },
  {
   "cell_type": "code",
   "execution_count": 16,
   "metadata": {},
   "outputs": [
    {
     "data": {
      "text/plain": [
       "array(['Monthly', 'Irregular', 'Weekly', 'Biweekly'], dtype=object)"
      ]
     },
     "execution_count": 16,
     "metadata": {},
     "output_type": "execute_result"
    }
   ],
   "source": [
    "# unique pay frequency values\n",
    "df['pay_frequency'].unique()"
   ]
  },
  {
   "cell_type": "code",
   "execution_count": 348,
   "metadata": {
    "scrolled": true
   },
   "outputs": [
    {
     "data": {
      "text/plain": [
       "pay_frequency\n",
       "Biweekly     75988\n",
       "Irregular    75857\n",
       "Monthly      60317\n",
       "Weekly       90704\n",
       "Name: id, dtype: int64"
      ]
     },
     "execution_count": 348,
     "metadata": {},
     "output_type": "execute_result"
    }
   ],
   "source": [
    "# total number of advances per pay frequency\n",
    "df.groupby([\"pay_frequency\"])['id'].count()"
   ]
  },
  {
   "cell_type": "code",
   "execution_count": 355,
   "metadata": {},
   "outputs": [
    {
     "data": {
      "text/plain": [
       "pay_frequency  default_flag\n",
       "Biweekly       0               62311\n",
       "               1               13677\n",
       "Irregular      0               62260\n",
       "               1               13597\n",
       "Monthly        0               49613\n",
       "               1               10704\n",
       "Weekly         0               74426\n",
       "               1               16278\n",
       "Name: id, dtype: int64"
      ]
     },
     "execution_count": 355,
     "metadata": {},
     "output_type": "execute_result"
    }
   ],
   "source": [
    "# total number of defaults per pay frequency\n",
    "df.groupby([\"pay_frequency\", 'default_flag'])['id'].count()"
   ]
  },
  {
   "cell_type": "markdown",
   "metadata": {},
   "source": [
    "## Data Analysis"
   ]
  },
  {
   "cell_type": "markdown",
   "metadata": {},
   "source": [
    "### Default Analysis"
   ]
  },
  {
   "cell_type": "code",
   "execution_count": 359,
   "metadata": {},
   "outputs": [],
   "source": [
    "# create function to calculate default ratios \n",
    "def by_bank(bank, df):\n",
    "    ratio_to_total_adv = []\n",
    "    for b in df[bank].unique():\n",
    "        ratio_to_total_adv.append(str(b) + ' Ratio Of Defaults To Total ' + b + ' Advances: ' + \\\n",
    "                                  (str(round((len(df[(df['banks'] == b) & \\\n",
    "                                          (df['default_flag'] == 1)])/(df['banks'] == b).sum()), 3))))\n",
    "    return ratio_to_total_adv\n",
    "\n",
    "\n",
    "# create function to calculate default amount ratios \n",
    "def by_amount(amount, df):\n",
    "    ratio_to_total_adv = []\n",
    "    for a in df[amount].unique():\n",
    "        ratio_to_total_adv.append(str(a) + ' Ratio Of Defaults To Total ' + str(a) + ' Advances: ' + \\\n",
    "                                  (str(round((len(df[(df['amount'] == a) & \\\n",
    "                                          (df['default_flag'] == 1)])/(df['amount'] == a).sum()), 3))))\n",
    "    return ratio_to_total_adv\n",
    " \n",
    "\n",
    "\n",
    "# create function to calculate default pay frequency ratios \n",
    "def pay_freq(frequency, df):\n",
    "    ratio_to_total_adv = []\n",
    "    for f in df[frequency].unique():\n",
    "        ratio_to_total_adv.append(f + ' Ratio Of Defaults To Total ' + f + ' Advances: ' + \\\n",
    "                                  (str(round((len(df[(df['pay_frequency'] == f) & \\\n",
    "                                          (df['default_flag'] == 1)])/(df['pay_frequency'] == f).sum()), 3))))\n",
    "    return ratio_to_total_adv\n",
    "\n",
    "\n",
    "# create function to calculate default state ratios  \n",
    "def by_state(state, df):\n",
    "    ratio_to_total_adv = []\n",
    "    for s in df[state].unique():\n",
    "        ratio_to_total_adv.append(str(s) + ' Ratio Of Defaults To Total ' + s + ' Advances: ' + \\\n",
    "                                  (str(round((len(df[(df['location_state'] == s) & \\\n",
    "                                          (df['default_flag'] == 1)])/(df['location_state'] == s).sum()), 3))))\n",
    "    return ratio_to_total_adv"
   ]
  },
  {
   "cell_type": "code",
   "execution_count": 360,
   "metadata": {},
   "outputs": [
    {
     "data": {
      "text/plain": [
       "['Citi Ratio Of Defaults To Total Citi Advances: 0.179',\n",
       " 'Wells Ratio Of Defaults To Total Wells Advances: 0.178',\n",
       " 'Chime Ratio Of Defaults To Total Chime Advances: 0.181',\n",
       " 'Chase Ratio Of Defaults To Total Chase Advances: 0.178',\n",
       " 'Goliath Ratio Of Defaults To Total Goliath Advances: 0.18']"
      ]
     },
     "execution_count": 360,
     "metadata": {},
     "output_type": "execute_result"
    }
   ],
   "source": [
    "by_bank('banks', df)"
   ]
  },
  {
   "cell_type": "code",
   "execution_count": 361,
   "metadata": {},
   "outputs": [
    {
     "data": {
      "text/plain": [
       "['170 Ratio Of Defaults To Total 170 Advances: 0.182',\n",
       " '130 Ratio Of Defaults To Total 130 Advances: 0.178',\n",
       " '140 Ratio Of Defaults To Total 140 Advances: 0.184',\n",
       " '150 Ratio Of Defaults To Total 150 Advances: 0.18',\n",
       " '120 Ratio Of Defaults To Total 120 Advances: 0.184',\n",
       " '180 Ratio Of Defaults To Total 180 Advances: 0.178',\n",
       " '200 Ratio Of Defaults To Total 200 Advances: 0.174',\n",
       " '240 Ratio Of Defaults To Total 240 Advances: 0.174',\n",
       " '220 Ratio Of Defaults To Total 220 Advances: 0.179',\n",
       " '110 Ratio Of Defaults To Total 110 Advances: 0.178',\n",
       " '210 Ratio Of Defaults To Total 210 Advances: 0.178',\n",
       " '230 Ratio Of Defaults To Total 230 Advances: 0.186',\n",
       " '80 Ratio Of Defaults To Total 80 Advances: 0.181',\n",
       " '160 Ratio Of Defaults To Total 160 Advances: 0.179',\n",
       " '190 Ratio Of Defaults To Total 190 Advances: 0.173',\n",
       " '90 Ratio Of Defaults To Total 90 Advances: 0.177',\n",
       " '100 Ratio Of Defaults To Total 100 Advances: 0.18']"
      ]
     },
     "execution_count": 361,
     "metadata": {},
     "output_type": "execute_result"
    }
   ],
   "source": [
    "by_amount('amount', df)"
   ]
  },
  {
   "cell_type": "code",
   "execution_count": 362,
   "metadata": {},
   "outputs": [
    {
     "data": {
      "text/plain": [
       "['Monthly Ratio Of Defaults To Total Monthly Advances: 0.177',\n",
       " 'Irregular Ratio Of Defaults To Total Irregular Advances: 0.179',\n",
       " 'Weekly Ratio Of Defaults To Total Weekly Advances: 0.179',\n",
       " 'Biweekly Ratio Of Defaults To Total Biweekly Advances: 0.18']"
      ]
     },
     "execution_count": 362,
     "metadata": {},
     "output_type": "execute_result"
    }
   ],
   "source": [
    "pay_freq('pay_frequency', df)"
   ]
  },
  {
   "cell_type": "code",
   "execution_count": 363,
   "metadata": {
    "scrolled": true
   },
   "outputs": [
    {
     "data": {
      "text/plain": [
       "['NY Ratio Of Defaults To Total NY Advances: 0.252',\n",
       " 'TX Ratio Of Defaults To Total TX Advances: 0.166',\n",
       " 'FL Ratio Of Defaults To Total FL Advances: 0.167',\n",
       " 'GA Ratio Of Defaults To Total GA Advances: 0.167',\n",
       " 'CA Ratio Of Defaults To Total CA Advances: 0.166']"
      ]
     },
     "execution_count": 363,
     "metadata": {},
     "output_type": "execute_result"
    }
   ],
   "source": [
    "by_state('location_state', df)"
   ]
  },
  {
   "cell_type": "markdown",
   "metadata": {},
   "source": [
    "## Visualize Data"
   ]
  },
  {
   "cell_type": "markdown",
   "metadata": {},
   "source": [
    "#### All visualizations were done in Tableau with labels added in Photoshop."
   ]
  },
  {
   "cell_type": "markdown",
   "metadata": {},
   "source": [
    "## Future Steps/Analysis"
   ]
  },
  {
   "cell_type": "code",
   "execution_count": 332,
   "metadata": {
    "scrolled": false
   },
   "outputs": [
    {
     "data": {
      "text/html": [
       "<div>\n",
       "<style scoped>\n",
       "    .dataframe tbody tr th:only-of-type {\n",
       "        vertical-align: middle;\n",
       "    }\n",
       "\n",
       "    .dataframe tbody tr th {\n",
       "        vertical-align: top;\n",
       "    }\n",
       "\n",
       "    .dataframe thead th {\n",
       "        text-align: right;\n",
       "    }\n",
       "</style>\n",
       "<table border=\"1\" class=\"dataframe\">\n",
       "  <thead>\n",
       "    <tr style=\"text-align: right;\">\n",
       "      <th></th>\n",
       "      <th></th>\n",
       "      <th></th>\n",
       "      <th>amount</th>\n",
       "    </tr>\n",
       "    <tr>\n",
       "      <th>user_id</th>\n",
       "      <th>id</th>\n",
       "      <th>default_flag</th>\n",
       "      <th></th>\n",
       "    </tr>\n",
       "  </thead>\n",
       "  <tbody>\n",
       "    <tr>\n",
       "      <td rowspan=\"2\" valign=\"top\">00005d618</td>\n",
       "      <td>dab032b8f</td>\n",
       "      <td>1</td>\n",
       "      <td>170</td>\n",
       "    </tr>\n",
       "    <tr>\n",
       "      <td>ef2879a5d</td>\n",
       "      <td>0</td>\n",
       "      <td>130</td>\n",
       "    </tr>\n",
       "    <tr>\n",
       "      <td rowspan=\"3\" valign=\"top\">0000759ff</td>\n",
       "      <td>18e3eb77d</td>\n",
       "      <td>0</td>\n",
       "      <td>170</td>\n",
       "    </tr>\n",
       "    <tr>\n",
       "      <td>4d27ee400</td>\n",
       "      <td>0</td>\n",
       "      <td>140</td>\n",
       "    </tr>\n",
       "    <tr>\n",
       "      <td>8739db27d</td>\n",
       "      <td>0</td>\n",
       "      <td>170</td>\n",
       "    </tr>\n",
       "    <tr>\n",
       "      <td rowspan=\"6\" valign=\"top\">000092b1c</td>\n",
       "      <td>0ff223e62</td>\n",
       "      <td>0</td>\n",
       "      <td>150</td>\n",
       "    </tr>\n",
       "    <tr>\n",
       "      <td>375b599a5</td>\n",
       "      <td>0</td>\n",
       "      <td>180</td>\n",
       "    </tr>\n",
       "    <tr>\n",
       "      <td>910a8c009</td>\n",
       "      <td>0</td>\n",
       "      <td>130</td>\n",
       "    </tr>\n",
       "    <tr>\n",
       "      <td>cdaa1c0bc</td>\n",
       "      <td>1</td>\n",
       "      <td>200</td>\n",
       "    </tr>\n",
       "    <tr>\n",
       "      <td>cfa53eb7f</td>\n",
       "      <td>0</td>\n",
       "      <td>240</td>\n",
       "    </tr>\n",
       "    <tr>\n",
       "      <td>d4e023bab</td>\n",
       "      <td>0</td>\n",
       "      <td>120</td>\n",
       "    </tr>\n",
       "    <tr>\n",
       "      <td rowspan=\"6\" valign=\"top\">0000b8c5a</td>\n",
       "      <td>52003d836</td>\n",
       "      <td>0</td>\n",
       "      <td>110</td>\n",
       "    </tr>\n",
       "    <tr>\n",
       "      <td>5a06d6a43</td>\n",
       "      <td>0</td>\n",
       "      <td>210</td>\n",
       "    </tr>\n",
       "    <tr>\n",
       "      <td>940849ca5</td>\n",
       "      <td>1</td>\n",
       "      <td>230</td>\n",
       "    </tr>\n",
       "    <tr>\n",
       "      <td>aa2bf1c6f</td>\n",
       "      <td>0</td>\n",
       "      <td>130</td>\n",
       "    </tr>\n",
       "    <tr>\n",
       "      <td>bbf0f24da</td>\n",
       "      <td>0</td>\n",
       "      <td>220</td>\n",
       "    </tr>\n",
       "    <tr>\n",
       "      <td>f8f3af8c0</td>\n",
       "      <td>0</td>\n",
       "      <td>110</td>\n",
       "    </tr>\n",
       "    <tr>\n",
       "      <td>0000f32f8</td>\n",
       "      <td>b87eb98bd</td>\n",
       "      <td>0</td>\n",
       "      <td>80</td>\n",
       "    </tr>\n",
       "    <tr>\n",
       "      <td rowspan=\"2\" valign=\"top\">000121080</td>\n",
       "      <td>31878f2e5</td>\n",
       "      <td>0</td>\n",
       "      <td>210</td>\n",
       "    </tr>\n",
       "    <tr>\n",
       "      <td>a7fc9f01e</td>\n",
       "      <td>1</td>\n",
       "      <td>160</td>\n",
       "    </tr>\n",
       "    <tr>\n",
       "      <td rowspan=\"2\" valign=\"top\">0001f48f6</td>\n",
       "      <td>0cbf8e044</td>\n",
       "      <td>1</td>\n",
       "      <td>210</td>\n",
       "    </tr>\n",
       "    <tr>\n",
       "      <td>9ea480983</td>\n",
       "      <td>0</td>\n",
       "      <td>80</td>\n",
       "    </tr>\n",
       "    <tr>\n",
       "      <td>0002caace</td>\n",
       "      <td>79f626ddb</td>\n",
       "      <td>0</td>\n",
       "      <td>170</td>\n",
       "    </tr>\n",
       "    <tr>\n",
       "      <td rowspan=\"3\" valign=\"top\">00033bbff</td>\n",
       "      <td>4d3237157</td>\n",
       "      <td>0</td>\n",
       "      <td>190</td>\n",
       "    </tr>\n",
       "    <tr>\n",
       "      <td>6b81a0212</td>\n",
       "      <td>0</td>\n",
       "      <td>210</td>\n",
       "    </tr>\n",
       "    <tr>\n",
       "      <td>d2ab9ba63</td>\n",
       "      <td>0</td>\n",
       "      <td>210</td>\n",
       "    </tr>\n",
       "    <tr>\n",
       "      <td>0004677d7</td>\n",
       "      <td>14ede528d</td>\n",
       "      <td>0</td>\n",
       "      <td>180</td>\n",
       "    </tr>\n",
       "    <tr>\n",
       "      <td rowspan=\"2\" valign=\"top\">0005b3f5c</td>\n",
       "      <td>0fb81599b</td>\n",
       "      <td>0</td>\n",
       "      <td>210</td>\n",
       "    </tr>\n",
       "    <tr>\n",
       "      <td>78d3dbb93</td>\n",
       "      <td>0</td>\n",
       "      <td>80</td>\n",
       "    </tr>\n",
       "    <tr>\n",
       "      <td>0005cb0a0</td>\n",
       "      <td>250566872</td>\n",
       "      <td>0</td>\n",
       "      <td>130</td>\n",
       "    </tr>\n",
       "    <tr>\n",
       "      <td rowspan=\"2\" valign=\"top\">0005d5bf7</td>\n",
       "      <td>854d5d7f1</td>\n",
       "      <td>0</td>\n",
       "      <td>180</td>\n",
       "    </tr>\n",
       "    <tr>\n",
       "      <td>b7297671b</td>\n",
       "      <td>0</td>\n",
       "      <td>190</td>\n",
       "    </tr>\n",
       "    <tr>\n",
       "      <td rowspan=\"6\" valign=\"top\">000709140</td>\n",
       "      <td>236798995</td>\n",
       "      <td>0</td>\n",
       "      <td>170</td>\n",
       "    </tr>\n",
       "    <tr>\n",
       "      <td>2e0d48735</td>\n",
       "      <td>0</td>\n",
       "      <td>190</td>\n",
       "    </tr>\n",
       "    <tr>\n",
       "      <td>7b50194c4</td>\n",
       "      <td>0</td>\n",
       "      <td>170</td>\n",
       "    </tr>\n",
       "    <tr>\n",
       "      <td>810460144</td>\n",
       "      <td>0</td>\n",
       "      <td>120</td>\n",
       "    </tr>\n",
       "    <tr>\n",
       "      <td>96f83cef5</td>\n",
       "      <td>0</td>\n",
       "      <td>240</td>\n",
       "    </tr>\n",
       "    <tr>\n",
       "      <td>a6eaa742e</td>\n",
       "      <td>1</td>\n",
       "      <td>140</td>\n",
       "    </tr>\n",
       "    <tr>\n",
       "      <td rowspan=\"6\" valign=\"top\">000797203</td>\n",
       "      <td>22d59c69a</td>\n",
       "      <td>0</td>\n",
       "      <td>130</td>\n",
       "    </tr>\n",
       "    <tr>\n",
       "      <td>40f2f2398</td>\n",
       "      <td>0</td>\n",
       "      <td>110</td>\n",
       "    </tr>\n",
       "    <tr>\n",
       "      <td>52b3c7bdb</td>\n",
       "      <td>0</td>\n",
       "      <td>80</td>\n",
       "    </tr>\n",
       "    <tr>\n",
       "      <td>5fba523d0</td>\n",
       "      <td>1</td>\n",
       "      <td>170</td>\n",
       "    </tr>\n",
       "    <tr>\n",
       "      <td>6a3bdce56</td>\n",
       "      <td>0</td>\n",
       "      <td>210</td>\n",
       "    </tr>\n",
       "    <tr>\n",
       "      <td>c5df0f4a1</td>\n",
       "      <td>0</td>\n",
       "      <td>190</td>\n",
       "    </tr>\n",
       "    <tr>\n",
       "      <td rowspan=\"6\" valign=\"top\">0007d9431</td>\n",
       "      <td>37b2deacc</td>\n",
       "      <td>0</td>\n",
       "      <td>190</td>\n",
       "    </tr>\n",
       "    <tr>\n",
       "      <td>38ba9f5d3</td>\n",
       "      <td>1</td>\n",
       "      <td>90</td>\n",
       "    </tr>\n",
       "    <tr>\n",
       "      <td>3aeb89e8e</td>\n",
       "      <td>0</td>\n",
       "      <td>140</td>\n",
       "    </tr>\n",
       "    <tr>\n",
       "      <td>98d1a6ac3</td>\n",
       "      <td>0</td>\n",
       "      <td>150</td>\n",
       "    </tr>\n",
       "    <tr>\n",
       "      <td>a1eb93688</td>\n",
       "      <td>0</td>\n",
       "      <td>200</td>\n",
       "    </tr>\n",
       "    <tr>\n",
       "      <td>c0c805d08</td>\n",
       "      <td>1</td>\n",
       "      <td>130</td>\n",
       "    </tr>\n",
       "  </tbody>\n",
       "</table>\n",
       "</div>"
      ],
      "text/plain": [
       "                                  amount\n",
       "user_id   id        default_flag        \n",
       "00005d618 dab032b8f 1                170\n",
       "          ef2879a5d 0                130\n",
       "0000759ff 18e3eb77d 0                170\n",
       "          4d27ee400 0                140\n",
       "          8739db27d 0                170\n",
       "000092b1c 0ff223e62 0                150\n",
       "          375b599a5 0                180\n",
       "          910a8c009 0                130\n",
       "          cdaa1c0bc 1                200\n",
       "          cfa53eb7f 0                240\n",
       "          d4e023bab 0                120\n",
       "0000b8c5a 52003d836 0                110\n",
       "          5a06d6a43 0                210\n",
       "          940849ca5 1                230\n",
       "          aa2bf1c6f 0                130\n",
       "          bbf0f24da 0                220\n",
       "          f8f3af8c0 0                110\n",
       "0000f32f8 b87eb98bd 0                 80\n",
       "000121080 31878f2e5 0                210\n",
       "          a7fc9f01e 1                160\n",
       "0001f48f6 0cbf8e044 1                210\n",
       "          9ea480983 0                 80\n",
       "0002caace 79f626ddb 0                170\n",
       "00033bbff 4d3237157 0                190\n",
       "          6b81a0212 0                210\n",
       "          d2ab9ba63 0                210\n",
       "0004677d7 14ede528d 0                180\n",
       "0005b3f5c 0fb81599b 0                210\n",
       "          78d3dbb93 0                 80\n",
       "0005cb0a0 250566872 0                130\n",
       "0005d5bf7 854d5d7f1 0                180\n",
       "          b7297671b 0                190\n",
       "000709140 236798995 0                170\n",
       "          2e0d48735 0                190\n",
       "          7b50194c4 0                170\n",
       "          810460144 0                120\n",
       "          96f83cef5 0                240\n",
       "          a6eaa742e 1                140\n",
       "000797203 22d59c69a 0                130\n",
       "          40f2f2398 0                110\n",
       "          52b3c7bdb 0                 80\n",
       "          5fba523d0 1                170\n",
       "          6a3bdce56 0                210\n",
       "          c5df0f4a1 0                190\n",
       "0007d9431 37b2deacc 0                190\n",
       "          38ba9f5d3 1                 90\n",
       "          3aeb89e8e 0                140\n",
       "          98d1a6ac3 0                150\n",
       "          a1eb93688 0                200\n",
       "          c0c805d08 1                130"
      ]
     },
     "execution_count": 332,
     "metadata": {},
     "output_type": "execute_result"
    }
   ],
   "source": [
    "df.groupby(['user_id', 'id', 'default_flag']).sum().head(50)"
   ]
  },
  {
   "cell_type": "code",
   "execution_count": 311,
   "metadata": {},
   "outputs": [
    {
     "data": {
      "text/plain": [
       "user_id    default_flag\n",
       "00005d618  0               1\n",
       "           1               1\n",
       "0000759ff  0               3\n",
       "000092b1c  0               5\n",
       "           1               1\n",
       "                          ..\n",
       "fffe635af  0               1\n",
       "ffff216cc  0               4\n",
       "           1               1\n",
       "ffffa14fc  0               8\n",
       "           1               1\n",
       "Name: id, Length: 127011, dtype: int64"
      ]
     },
     "execution_count": 311,
     "metadata": {},
     "output_type": "execute_result"
    }
   ],
   "source": [
    "df.groupby([\"user_id\", \"default_flag\"])['id'].count()"
   ]
  },
  {
   "cell_type": "code",
   "execution_count": 324,
   "metadata": {},
   "outputs": [
    {
     "data": {
      "text/html": [
       "<div>\n",
       "<style scoped>\n",
       "    .dataframe tbody tr th:only-of-type {\n",
       "        vertical-align: middle;\n",
       "    }\n",
       "\n",
       "    .dataframe tbody tr th {\n",
       "        vertical-align: top;\n",
       "    }\n",
       "\n",
       "    .dataframe thead th {\n",
       "        text-align: right;\n",
       "    }\n",
       "</style>\n",
       "<table border=\"1\" class=\"dataframe\">\n",
       "  <thead>\n",
       "    <tr style=\"text-align: right;\">\n",
       "      <th></th>\n",
       "      <th>user_id</th>\n",
       "      <th>id</th>\n",
       "      <th>origination_date</th>\n",
       "      <th>amount</th>\n",
       "      <th>banks</th>\n",
       "      <th>location_state</th>\n",
       "      <th>default_flag</th>\n",
       "      <th>pay_frequency</th>\n",
       "    </tr>\n",
       "  </thead>\n",
       "  <tbody>\n",
       "    <tr>\n",
       "      <td>44</td>\n",
       "      <td>0007d9431</td>\n",
       "      <td>3aeb89e8e</td>\n",
       "      <td>2018-09-26</td>\n",
       "      <td>140</td>\n",
       "      <td>Wells</td>\n",
       "      <td>GA</td>\n",
       "      <td>0</td>\n",
       "      <td>Irregular</td>\n",
       "    </tr>\n",
       "    <tr>\n",
       "      <td>45</td>\n",
       "      <td>0007d9431</td>\n",
       "      <td>a1eb93688</td>\n",
       "      <td>2018-09-26</td>\n",
       "      <td>200</td>\n",
       "      <td>Goliath</td>\n",
       "      <td>GA</td>\n",
       "      <td>0</td>\n",
       "      <td>Monthly</td>\n",
       "    </tr>\n",
       "    <tr>\n",
       "      <td>46</td>\n",
       "      <td>0007d9431</td>\n",
       "      <td>c0c805d08</td>\n",
       "      <td>2018-10-28</td>\n",
       "      <td>130</td>\n",
       "      <td>Goliath</td>\n",
       "      <td>TX</td>\n",
       "      <td>1</td>\n",
       "      <td>Irregular</td>\n",
       "    </tr>\n",
       "    <tr>\n",
       "      <td>47</td>\n",
       "      <td>0007d9431</td>\n",
       "      <td>38ba9f5d3</td>\n",
       "      <td>2018-05-12</td>\n",
       "      <td>90</td>\n",
       "      <td>Goliath</td>\n",
       "      <td>TX</td>\n",
       "      <td>1</td>\n",
       "      <td>Irregular</td>\n",
       "    </tr>\n",
       "    <tr>\n",
       "      <td>48</td>\n",
       "      <td>0007d9431</td>\n",
       "      <td>98d1a6ac3</td>\n",
       "      <td>2018-12-06</td>\n",
       "      <td>150</td>\n",
       "      <td>Goliath</td>\n",
       "      <td>CA</td>\n",
       "      <td>0</td>\n",
       "      <td>Monthly</td>\n",
       "    </tr>\n",
       "    <tr>\n",
       "      <td>49</td>\n",
       "      <td>0007d9431</td>\n",
       "      <td>c9b4610b2</td>\n",
       "      <td>2018-05-30</td>\n",
       "      <td>110</td>\n",
       "      <td>Goliath</td>\n",
       "      <td>TX</td>\n",
       "      <td>1</td>\n",
       "      <td>Irregular</td>\n",
       "    </tr>\n",
       "    <tr>\n",
       "      <td>50</td>\n",
       "      <td>0007d9431</td>\n",
       "      <td>37b2deacc</td>\n",
       "      <td>2018-11-10</td>\n",
       "      <td>190</td>\n",
       "      <td>Goliath</td>\n",
       "      <td>CA</td>\n",
       "      <td>0</td>\n",
       "      <td>Irregular</td>\n",
       "    </tr>\n",
       "  </tbody>\n",
       "</table>\n",
       "</div>"
      ],
      "text/plain": [
       "      user_id         id origination_date  amount    banks location_state  \\\n",
       "44  0007d9431  3aeb89e8e       2018-09-26     140    Wells             GA   \n",
       "45  0007d9431  a1eb93688       2018-09-26     200  Goliath             GA   \n",
       "46  0007d9431  c0c805d08       2018-10-28     130  Goliath             TX   \n",
       "47  0007d9431  38ba9f5d3       2018-05-12      90  Goliath             TX   \n",
       "48  0007d9431  98d1a6ac3       2018-12-06     150  Goliath             CA   \n",
       "49  0007d9431  c9b4610b2       2018-05-30     110  Goliath             TX   \n",
       "50  0007d9431  37b2deacc       2018-11-10     190  Goliath             CA   \n",
       "\n",
       "    default_flag pay_frequency  \n",
       "44             0     Irregular  \n",
       "45             0       Monthly  \n",
       "46             1     Irregular  \n",
       "47             1     Irregular  \n",
       "48             0       Monthly  \n",
       "49             1     Irregular  \n",
       "50             0     Irregular  "
      ]
     },
     "execution_count": 324,
     "metadata": {},
     "output_type": "execute_result"
    }
   ],
   "source": [
    "df[df['user_id'] == '0007d9431']"
   ]
  },
  {
   "cell_type": "code",
   "execution_count": 317,
   "metadata": {},
   "outputs": [
    {
     "data": {
      "text/html": [
       "<div>\n",
       "<style scoped>\n",
       "    .dataframe tbody tr th:only-of-type {\n",
       "        vertical-align: middle;\n",
       "    }\n",
       "\n",
       "    .dataframe tbody tr th {\n",
       "        vertical-align: top;\n",
       "    }\n",
       "\n",
       "    .dataframe thead th {\n",
       "        text-align: right;\n",
       "    }\n",
       "</style>\n",
       "<table border=\"1\" class=\"dataframe\">\n",
       "  <thead>\n",
       "    <tr style=\"text-align: right;\">\n",
       "      <th></th>\n",
       "      <th>user_id</th>\n",
       "      <th>id</th>\n",
       "      <th>origination_date</th>\n",
       "      <th>amount</th>\n",
       "      <th>banks</th>\n",
       "      <th>location_state</th>\n",
       "      <th>default_flag</th>\n",
       "      <th>pay_frequency</th>\n",
       "    </tr>\n",
       "  </thead>\n",
       "  <tbody>\n",
       "    <tr>\n",
       "      <td>0</td>\n",
       "      <td>00005d618</td>\n",
       "      <td>dab032b8f</td>\n",
       "      <td>2018-09-18</td>\n",
       "      <td>170</td>\n",
       "      <td>Citi</td>\n",
       "      <td>NY</td>\n",
       "      <td>1</td>\n",
       "      <td>Monthly</td>\n",
       "    </tr>\n",
       "    <tr>\n",
       "      <td>1</td>\n",
       "      <td>00005d618</td>\n",
       "      <td>ef2879a5d</td>\n",
       "      <td>2018-04-27</td>\n",
       "      <td>130</td>\n",
       "      <td>Wells</td>\n",
       "      <td>TX</td>\n",
       "      <td>0</td>\n",
       "      <td>Irregular</td>\n",
       "    </tr>\n",
       "  </tbody>\n",
       "</table>\n",
       "</div>"
      ],
      "text/plain": [
       "     user_id         id origination_date  amount  banks location_state  \\\n",
       "0  00005d618  dab032b8f       2018-09-18     170   Citi             NY   \n",
       "1  00005d618  ef2879a5d       2018-04-27     130  Wells             TX   \n",
       "\n",
       "   default_flag pay_frequency  \n",
       "0             1       Monthly  \n",
       "1             0     Irregular  "
      ]
     },
     "execution_count": 317,
     "metadata": {},
     "output_type": "execute_result"
    }
   ],
   "source": [
    "df[df['user_id'] == '00005d618']"
   ]
  },
  {
   "cell_type": "code",
   "execution_count": 27,
   "metadata": {
    "scrolled": true
   },
   "outputs": [
    {
     "data": {
      "text/html": [
       "<div>\n",
       "<style scoped>\n",
       "    .dataframe tbody tr th:only-of-type {\n",
       "        vertical-align: middle;\n",
       "    }\n",
       "\n",
       "    .dataframe tbody tr th {\n",
       "        vertical-align: top;\n",
       "    }\n",
       "\n",
       "    .dataframe thead th {\n",
       "        text-align: right;\n",
       "    }\n",
       "</style>\n",
       "<table border=\"1\" class=\"dataframe\">\n",
       "  <thead>\n",
       "    <tr style=\"text-align: right;\">\n",
       "      <th></th>\n",
       "      <th></th>\n",
       "      <th>user_id</th>\n",
       "      <th>id</th>\n",
       "      <th>origination_date</th>\n",
       "      <th>amount</th>\n",
       "      <th>banks</th>\n",
       "      <th>pay_frequency</th>\n",
       "    </tr>\n",
       "    <tr>\n",
       "      <th>location_state</th>\n",
       "      <th>default_flag</th>\n",
       "      <th></th>\n",
       "      <th></th>\n",
       "      <th></th>\n",
       "      <th></th>\n",
       "      <th></th>\n",
       "      <th></th>\n",
       "    </tr>\n",
       "  </thead>\n",
       "  <tbody>\n",
       "    <tr>\n",
       "      <td rowspan=\"2\" valign=\"top\">CA</td>\n",
       "      <td>0</td>\n",
       "      <td>63487</td>\n",
       "      <td>63487</td>\n",
       "      <td>63487</td>\n",
       "      <td>63487</td>\n",
       "      <td>63487</td>\n",
       "      <td>63487</td>\n",
       "    </tr>\n",
       "    <tr>\n",
       "      <td>1</td>\n",
       "      <td>12629</td>\n",
       "      <td>12629</td>\n",
       "      <td>12629</td>\n",
       "      <td>12629</td>\n",
       "      <td>12629</td>\n",
       "      <td>12629</td>\n",
       "    </tr>\n",
       "    <tr>\n",
       "      <td rowspan=\"2\" valign=\"top\">FL</td>\n",
       "      <td>0</td>\n",
       "      <td>50385</td>\n",
       "      <td>50385</td>\n",
       "      <td>50385</td>\n",
       "      <td>50385</td>\n",
       "      <td>50385</td>\n",
       "      <td>50385</td>\n",
       "    </tr>\n",
       "    <tr>\n",
       "      <td>1</td>\n",
       "      <td>10069</td>\n",
       "      <td>10069</td>\n",
       "      <td>10069</td>\n",
       "      <td>10069</td>\n",
       "      <td>10069</td>\n",
       "      <td>10069</td>\n",
       "    </tr>\n",
       "    <tr>\n",
       "      <td rowspan=\"2\" valign=\"top\">GA</td>\n",
       "      <td>0</td>\n",
       "      <td>25135</td>\n",
       "      <td>25135</td>\n",
       "      <td>25135</td>\n",
       "      <td>25135</td>\n",
       "      <td>25135</td>\n",
       "      <td>25135</td>\n",
       "    </tr>\n",
       "    <tr>\n",
       "      <td>1</td>\n",
       "      <td>5054</td>\n",
       "      <td>5054</td>\n",
       "      <td>5054</td>\n",
       "      <td>5054</td>\n",
       "      <td>5054</td>\n",
       "      <td>5054</td>\n",
       "    </tr>\n",
       "    <tr>\n",
       "      <td rowspan=\"2\" valign=\"top\">NY</td>\n",
       "      <td>0</td>\n",
       "      <td>33876</td>\n",
       "      <td>33876</td>\n",
       "      <td>33876</td>\n",
       "      <td>33876</td>\n",
       "      <td>33876</td>\n",
       "      <td>33876</td>\n",
       "    </tr>\n",
       "    <tr>\n",
       "      <td>1</td>\n",
       "      <td>11425</td>\n",
       "      <td>11425</td>\n",
       "      <td>11425</td>\n",
       "      <td>11425</td>\n",
       "      <td>11425</td>\n",
       "      <td>11425</td>\n",
       "    </tr>\n",
       "    <tr>\n",
       "      <td rowspan=\"2\" valign=\"top\">TX</td>\n",
       "      <td>0</td>\n",
       "      <td>75727</td>\n",
       "      <td>75727</td>\n",
       "      <td>75727</td>\n",
       "      <td>75727</td>\n",
       "      <td>75727</td>\n",
       "      <td>75727</td>\n",
       "    </tr>\n",
       "    <tr>\n",
       "      <td>1</td>\n",
       "      <td>15079</td>\n",
       "      <td>15079</td>\n",
       "      <td>15079</td>\n",
       "      <td>15079</td>\n",
       "      <td>15079</td>\n",
       "      <td>15079</td>\n",
       "    </tr>\n",
       "  </tbody>\n",
       "</table>\n",
       "</div>"
      ],
      "text/plain": [
       "                             user_id     id  origination_date  amount  banks  \\\n",
       "location_state default_flag                                                    \n",
       "CA             0               63487  63487             63487   63487  63487   \n",
       "               1               12629  12629             12629   12629  12629   \n",
       "FL             0               50385  50385             50385   50385  50385   \n",
       "               1               10069  10069             10069   10069  10069   \n",
       "GA             0               25135  25135             25135   25135  25135   \n",
       "               1                5054   5054              5054    5054   5054   \n",
       "NY             0               33876  33876             33876   33876  33876   \n",
       "               1               11425  11425             11425   11425  11425   \n",
       "TX             0               75727  75727             75727   75727  75727   \n",
       "               1               15079  15079             15079   15079  15079   \n",
       "\n",
       "                             pay_frequency  \n",
       "location_state default_flag                 \n",
       "CA             0                     63487  \n",
       "               1                     12629  \n",
       "FL             0                     50385  \n",
       "               1                     10069  \n",
       "GA             0                     25135  \n",
       "               1                      5054  \n",
       "NY             0                     33876  \n",
       "               1                     11425  \n",
       "TX             0                     75727  \n",
       "               1                     15079  "
      ]
     },
     "execution_count": 27,
     "metadata": {},
     "output_type": "execute_result"
    }
   ],
   "source": [
    "df.groupby([\"location_state\", \"default_flag\"]).count()"
   ]
  },
  {
   "cell_type": "code",
   "execution_count": 49,
   "metadata": {},
   "outputs": [
    {
     "data": {
      "text/html": [
       "<div>\n",
       "<style scoped>\n",
       "    .dataframe tbody tr th:only-of-type {\n",
       "        vertical-align: middle;\n",
       "    }\n",
       "\n",
       "    .dataframe tbody tr th {\n",
       "        vertical-align: top;\n",
       "    }\n",
       "\n",
       "    .dataframe thead th {\n",
       "        text-align: right;\n",
       "    }\n",
       "</style>\n",
       "<table border=\"1\" class=\"dataframe\">\n",
       "  <thead>\n",
       "    <tr style=\"text-align: right;\">\n",
       "      <th></th>\n",
       "      <th></th>\n",
       "      <th>user_id</th>\n",
       "      <th>id</th>\n",
       "      <th>origination_date</th>\n",
       "      <th>amount</th>\n",
       "      <th>banks</th>\n",
       "      <th>location_state</th>\n",
       "    </tr>\n",
       "    <tr>\n",
       "      <th>pay_frequency</th>\n",
       "      <th>default_flag</th>\n",
       "      <th></th>\n",
       "      <th></th>\n",
       "      <th></th>\n",
       "      <th></th>\n",
       "      <th></th>\n",
       "      <th></th>\n",
       "    </tr>\n",
       "  </thead>\n",
       "  <tbody>\n",
       "    <tr>\n",
       "      <td rowspan=\"2\" valign=\"top\">Biweekly</td>\n",
       "      <td>0</td>\n",
       "      <td>62311</td>\n",
       "      <td>62311</td>\n",
       "      <td>62311</td>\n",
       "      <td>62311</td>\n",
       "      <td>62311</td>\n",
       "      <td>62311</td>\n",
       "    </tr>\n",
       "    <tr>\n",
       "      <td>1</td>\n",
       "      <td>13677</td>\n",
       "      <td>13677</td>\n",
       "      <td>13677</td>\n",
       "      <td>13677</td>\n",
       "      <td>13677</td>\n",
       "      <td>13677</td>\n",
       "    </tr>\n",
       "    <tr>\n",
       "      <td rowspan=\"2\" valign=\"top\">Irregular</td>\n",
       "      <td>0</td>\n",
       "      <td>62260</td>\n",
       "      <td>62260</td>\n",
       "      <td>62260</td>\n",
       "      <td>62260</td>\n",
       "      <td>62260</td>\n",
       "      <td>62260</td>\n",
       "    </tr>\n",
       "    <tr>\n",
       "      <td>1</td>\n",
       "      <td>13597</td>\n",
       "      <td>13597</td>\n",
       "      <td>13597</td>\n",
       "      <td>13597</td>\n",
       "      <td>13597</td>\n",
       "      <td>13597</td>\n",
       "    </tr>\n",
       "    <tr>\n",
       "      <td rowspan=\"2\" valign=\"top\">Monthly</td>\n",
       "      <td>0</td>\n",
       "      <td>49613</td>\n",
       "      <td>49613</td>\n",
       "      <td>49613</td>\n",
       "      <td>49613</td>\n",
       "      <td>49613</td>\n",
       "      <td>49613</td>\n",
       "    </tr>\n",
       "    <tr>\n",
       "      <td>1</td>\n",
       "      <td>10704</td>\n",
       "      <td>10704</td>\n",
       "      <td>10704</td>\n",
       "      <td>10704</td>\n",
       "      <td>10704</td>\n",
       "      <td>10704</td>\n",
       "    </tr>\n",
       "    <tr>\n",
       "      <td rowspan=\"2\" valign=\"top\">Weekly</td>\n",
       "      <td>0</td>\n",
       "      <td>74426</td>\n",
       "      <td>74426</td>\n",
       "      <td>74426</td>\n",
       "      <td>74426</td>\n",
       "      <td>74426</td>\n",
       "      <td>74426</td>\n",
       "    </tr>\n",
       "    <tr>\n",
       "      <td>1</td>\n",
       "      <td>16278</td>\n",
       "      <td>16278</td>\n",
       "      <td>16278</td>\n",
       "      <td>16278</td>\n",
       "      <td>16278</td>\n",
       "      <td>16278</td>\n",
       "    </tr>\n",
       "  </tbody>\n",
       "</table>\n",
       "</div>"
      ],
      "text/plain": [
       "                            user_id     id  origination_date  amount  banks  \\\n",
       "pay_frequency default_flag                                                    \n",
       "Biweekly      0               62311  62311             62311   62311  62311   \n",
       "              1               13677  13677             13677   13677  13677   \n",
       "Irregular     0               62260  62260             62260   62260  62260   \n",
       "              1               13597  13597             13597   13597  13597   \n",
       "Monthly       0               49613  49613             49613   49613  49613   \n",
       "              1               10704  10704             10704   10704  10704   \n",
       "Weekly        0               74426  74426             74426   74426  74426   \n",
       "              1               16278  16278             16278   16278  16278   \n",
       "\n",
       "                            location_state  \n",
       "pay_frequency default_flag                  \n",
       "Biweekly      0                      62311  \n",
       "              1                      13677  \n",
       "Irregular     0                      62260  \n",
       "              1                      13597  \n",
       "Monthly       0                      49613  \n",
       "              1                      10704  \n",
       "Weekly        0                      74426  \n",
       "              1                      16278  "
      ]
     },
     "execution_count": 49,
     "metadata": {},
     "output_type": "execute_result"
    }
   ],
   "source": [
    "df.groupby([\"pay_frequency\", \"default_flag\"]).count()"
   ]
  }
 ],
 "metadata": {
  "kernelspec": {
   "display_name": "Python 3",
   "language": "python",
   "name": "python3"
  },
  "language_info": {
   "codemirror_mode": {
    "name": "ipython",
    "version": 3
   },
   "file_extension": ".py",
   "mimetype": "text/x-python",
   "name": "python",
   "nbconvert_exporter": "python",
   "pygments_lexer": "ipython3",
   "version": "3.7.4"
  }
 },
 "nbformat": 4,
 "nbformat_minor": 2
}
