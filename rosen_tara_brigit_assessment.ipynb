{
 "cells": [
  {
   "cell_type": "code",
   "execution_count": 33,
   "metadata": {},
   "outputs": [],
   "source": [
    "#import packages\n",
    "import pandas as pd\n",
    "import seaborn as sns"
   ]
  },
  {
   "cell_type": "code",
   "execution_count": 2,
   "metadata": {},
   "outputs": [],
   "source": [
    "# read in file and create dataframe\n",
    "df = pd.read_csv('advance_tape.csv')"
   ]
  },
  {
   "cell_type": "markdown",
   "metadata": {},
   "source": [
    "Please analyze the data and provide us insights about our advance originations and\n",
    "performance data. Produce a light report on your findings.\n",
    "Here are examples of questions we are looking for within the data:\n",
    "1. Default rates by loan amount\n",
    "2. Advance originations by different segmentations"
   ]
  },
  {
   "cell_type": "markdown",
   "metadata": {},
   "source": [
    "## Inspect Data"
   ]
  },
  {
   "cell_type": "code",
   "execution_count": 6,
   "metadata": {
    "scrolled": true
   },
   "outputs": [
    {
     "data": {
      "text/html": [
       "<div>\n",
       "<style scoped>\n",
       "    .dataframe tbody tr th:only-of-type {\n",
       "        vertical-align: middle;\n",
       "    }\n",
       "\n",
       "    .dataframe tbody tr th {\n",
       "        vertical-align: top;\n",
       "    }\n",
       "\n",
       "    .dataframe thead th {\n",
       "        text-align: right;\n",
       "    }\n",
       "</style>\n",
       "<table border=\"1\" class=\"dataframe\">\n",
       "  <thead>\n",
       "    <tr style=\"text-align: right;\">\n",
       "      <th></th>\n",
       "      <th>user_id</th>\n",
       "      <th>id</th>\n",
       "      <th>origination_date</th>\n",
       "      <th>amount</th>\n",
       "      <th>banks</th>\n",
       "      <th>location_state</th>\n",
       "      <th>default_flag</th>\n",
       "      <th>pay_frequency</th>\n",
       "    </tr>\n",
       "  </thead>\n",
       "  <tbody>\n",
       "    <tr>\n",
       "      <td>0</td>\n",
       "      <td>00005d618</td>\n",
       "      <td>dab032b8f</td>\n",
       "      <td>2018-09-18</td>\n",
       "      <td>170</td>\n",
       "      <td>Citi</td>\n",
       "      <td>NY</td>\n",
       "      <td>1</td>\n",
       "      <td>Monthly</td>\n",
       "    </tr>\n",
       "    <tr>\n",
       "      <td>1</td>\n",
       "      <td>00005d618</td>\n",
       "      <td>ef2879a5d</td>\n",
       "      <td>2018-04-27</td>\n",
       "      <td>130</td>\n",
       "      <td>Wells</td>\n",
       "      <td>TX</td>\n",
       "      <td>0</td>\n",
       "      <td>Irregular</td>\n",
       "    </tr>\n",
       "    <tr>\n",
       "      <td>2</td>\n",
       "      <td>0000759ff</td>\n",
       "      <td>8739db27d</td>\n",
       "      <td>2018-04-26</td>\n",
       "      <td>170</td>\n",
       "      <td>Chime</td>\n",
       "      <td>FL</td>\n",
       "      <td>0</td>\n",
       "      <td>Irregular</td>\n",
       "    </tr>\n",
       "    <tr>\n",
       "      <td>3</td>\n",
       "      <td>0000759ff</td>\n",
       "      <td>4d27ee400</td>\n",
       "      <td>2018-11-02</td>\n",
       "      <td>140</td>\n",
       "      <td>Wells</td>\n",
       "      <td>GA</td>\n",
       "      <td>0</td>\n",
       "      <td>Irregular</td>\n",
       "    </tr>\n",
       "    <tr>\n",
       "      <td>4</td>\n",
       "      <td>0000759ff</td>\n",
       "      <td>18e3eb77d</td>\n",
       "      <td>2018-09-01</td>\n",
       "      <td>170</td>\n",
       "      <td>Chase</td>\n",
       "      <td>CA</td>\n",
       "      <td>0</td>\n",
       "      <td>Monthly</td>\n",
       "    </tr>\n",
       "    <tr>\n",
       "      <td>5</td>\n",
       "      <td>000092b1c</td>\n",
       "      <td>0ff223e62</td>\n",
       "      <td>2018-07-18</td>\n",
       "      <td>150</td>\n",
       "      <td>Wells</td>\n",
       "      <td>CA</td>\n",
       "      <td>0</td>\n",
       "      <td>Irregular</td>\n",
       "    </tr>\n",
       "    <tr>\n",
       "      <td>6</td>\n",
       "      <td>000092b1c</td>\n",
       "      <td>d4e023bab</td>\n",
       "      <td>2018-11-27</td>\n",
       "      <td>120</td>\n",
       "      <td>Chime</td>\n",
       "      <td>FL</td>\n",
       "      <td>0</td>\n",
       "      <td>Weekly</td>\n",
       "    </tr>\n",
       "    <tr>\n",
       "      <td>7</td>\n",
       "      <td>000092b1c</td>\n",
       "      <td>375b599a5</td>\n",
       "      <td>2018-08-18</td>\n",
       "      <td>180</td>\n",
       "      <td>Chase</td>\n",
       "      <td>NY</td>\n",
       "      <td>0</td>\n",
       "      <td>Weekly</td>\n",
       "    </tr>\n",
       "    <tr>\n",
       "      <td>8</td>\n",
       "      <td>000092b1c</td>\n",
       "      <td>cdaa1c0bc</td>\n",
       "      <td>2018-06-03</td>\n",
       "      <td>200</td>\n",
       "      <td>Wells</td>\n",
       "      <td>FL</td>\n",
       "      <td>1</td>\n",
       "      <td>Irregular</td>\n",
       "    </tr>\n",
       "    <tr>\n",
       "      <td>9</td>\n",
       "      <td>000092b1c</td>\n",
       "      <td>cfa53eb7f</td>\n",
       "      <td>2018-12-16</td>\n",
       "      <td>240</td>\n",
       "      <td>Chase</td>\n",
       "      <td>FL</td>\n",
       "      <td>0</td>\n",
       "      <td>Monthly</td>\n",
       "    </tr>\n",
       "  </tbody>\n",
       "</table>\n",
       "</div>"
      ],
      "text/plain": [
       "     user_id         id origination_date  amount  banks location_state  \\\n",
       "0  00005d618  dab032b8f       2018-09-18     170   Citi             NY   \n",
       "1  00005d618  ef2879a5d       2018-04-27     130  Wells             TX   \n",
       "2  0000759ff  8739db27d       2018-04-26     170  Chime             FL   \n",
       "3  0000759ff  4d27ee400       2018-11-02     140  Wells             GA   \n",
       "4  0000759ff  18e3eb77d       2018-09-01     170  Chase             CA   \n",
       "5  000092b1c  0ff223e62       2018-07-18     150  Wells             CA   \n",
       "6  000092b1c  d4e023bab       2018-11-27     120  Chime             FL   \n",
       "7  000092b1c  375b599a5       2018-08-18     180  Chase             NY   \n",
       "8  000092b1c  cdaa1c0bc       2018-06-03     200  Wells             FL   \n",
       "9  000092b1c  cfa53eb7f       2018-12-16     240  Chase             FL   \n",
       "\n",
       "   default_flag pay_frequency  \n",
       "0             1       Monthly  \n",
       "1             0     Irregular  \n",
       "2             0     Irregular  \n",
       "3             0     Irregular  \n",
       "4             0       Monthly  \n",
       "5             0     Irregular  \n",
       "6             0        Weekly  \n",
       "7             0        Weekly  \n",
       "8             1     Irregular  \n",
       "9             0       Monthly  "
      ]
     },
     "execution_count": 6,
     "metadata": {},
     "output_type": "execute_result"
    }
   ],
   "source": [
    "df.head(10)"
   ]
  },
  {
   "cell_type": "markdown",
   "metadata": {},
   "source": [
    "### Features:\n",
    "● User_id - Identifier for users\n",
    "● Id - Unique identifier for advances\n",
    "● Origination Date- Date of Advance Origination\n",
    "● Amount - Origination Amount\n",
    "● Location_State - State of Origination of Advance\n",
    "● Banks - Bank of Borrower’s Depository Account\n",
    "● Pay Frequency - Frequency of borrowers paycheck\n",
    "● Default Flag - Advance has defaulted (Not repaid advance)"
   ]
  },
  {
   "cell_type": "code",
   "execution_count": 5,
   "metadata": {},
   "outputs": [
    {
     "data": {
      "text/plain": [
       "(302866, 8)"
      ]
     },
     "execution_count": 5,
     "metadata": {},
     "output_type": "execute_result"
    }
   ],
   "source": [
    "df.shape"
   ]
  },
  {
   "cell_type": "markdown",
   "metadata": {},
   "source": [
    "There are 302,866 unique advances and 8 features in this dataset."
   ]
  },
  {
   "cell_type": "code",
   "execution_count": 8,
   "metadata": {},
   "outputs": [
    {
     "name": "stdout",
     "output_type": "stream",
     "text": [
      "<class 'pandas.core.frame.DataFrame'>\n",
      "RangeIndex: 302866 entries, 0 to 302865\n",
      "Data columns (total 8 columns):\n",
      "user_id             302866 non-null object\n",
      "id                  302866 non-null object\n",
      "origination_date    302866 non-null object\n",
      "amount              302866 non-null int64\n",
      "banks               302866 non-null object\n",
      "location_state      302866 non-null object\n",
      "default_flag        302866 non-null int64\n",
      "pay_frequency       302866 non-null object\n",
      "dtypes: int64(2), object(6)\n",
      "memory usage: 18.5+ MB\n"
     ]
    }
   ],
   "source": [
    "df.info()"
   ]
  },
  {
   "cell_type": "code",
   "execution_count": 32,
   "metadata": {
    "scrolled": false
   },
   "outputs": [
    {
     "data": {
      "text/html": [
       "<div>\n",
       "<style scoped>\n",
       "    .dataframe tbody tr th:only-of-type {\n",
       "        vertical-align: middle;\n",
       "    }\n",
       "\n",
       "    .dataframe tbody tr th {\n",
       "        vertical-align: top;\n",
       "    }\n",
       "\n",
       "    .dataframe thead th {\n",
       "        text-align: right;\n",
       "    }\n",
       "</style>\n",
       "<table border=\"1\" class=\"dataframe\">\n",
       "  <thead>\n",
       "    <tr style=\"text-align: right;\">\n",
       "      <th></th>\n",
       "      <th>amount</th>\n",
       "      <th>default_flag</th>\n",
       "    </tr>\n",
       "  </thead>\n",
       "  <tbody>\n",
       "    <tr>\n",
       "      <td>count</td>\n",
       "      <td>302866.000000</td>\n",
       "      <td>302866.000000</td>\n",
       "    </tr>\n",
       "    <tr>\n",
       "      <td>mean</td>\n",
       "      <td>160.166212</td>\n",
       "      <td>0.179142</td>\n",
       "    </tr>\n",
       "    <tr>\n",
       "      <td>std</td>\n",
       "      <td>48.944875</td>\n",
       "      <td>0.383472</td>\n",
       "    </tr>\n",
       "    <tr>\n",
       "      <td>min</td>\n",
       "      <td>80.000000</td>\n",
       "      <td>0.000000</td>\n",
       "    </tr>\n",
       "    <tr>\n",
       "      <td>25%</td>\n",
       "      <td>120.000000</td>\n",
       "      <td>0.000000</td>\n",
       "    </tr>\n",
       "    <tr>\n",
       "      <td>50%</td>\n",
       "      <td>160.000000</td>\n",
       "      <td>0.000000</td>\n",
       "    </tr>\n",
       "    <tr>\n",
       "      <td>75%</td>\n",
       "      <td>200.000000</td>\n",
       "      <td>0.000000</td>\n",
       "    </tr>\n",
       "    <tr>\n",
       "      <td>max</td>\n",
       "      <td>240.000000</td>\n",
       "      <td>1.000000</td>\n",
       "    </tr>\n",
       "  </tbody>\n",
       "</table>\n",
       "</div>"
      ],
      "text/plain": [
       "              amount   default_flag\n",
       "count  302866.000000  302866.000000\n",
       "mean      160.166212       0.179142\n",
       "std        48.944875       0.383472\n",
       "min        80.000000       0.000000\n",
       "25%       120.000000       0.000000\n",
       "50%       160.000000       0.000000\n",
       "75%       200.000000       0.000000\n",
       "max       240.000000       1.000000"
      ]
     },
     "execution_count": 32,
     "metadata": {},
     "output_type": "execute_result"
    }
   ],
   "source": [
    "df.describe()"
   ]
  },
  {
   "cell_type": "code",
   "execution_count": 35,
   "metadata": {},
   "outputs": [
    {
     "data": {
      "text/plain": [
       "user_id             0\n",
       "id                  0\n",
       "origination_date    0\n",
       "amount              0\n",
       "banks               0\n",
       "location_state      0\n",
       "default_flag        0\n",
       "pay_frequency       0\n",
       "dtype: int64"
      ]
     },
     "execution_count": 35,
     "metadata": {},
     "output_type": "execute_result"
    }
   ],
   "source": [
    "# check for any null values\n",
    "df.isnull().sum()"
   ]
  },
  {
   "cell_type": "code",
   "execution_count": 22,
   "metadata": {},
   "outputs": [
    {
     "name": "stdout",
     "output_type": "stream",
     "text": [
      "0    248610\n",
      "1     54256\n",
      "Name: default_flag, dtype: int64\n",
      "Default Percentage: 17.91\n"
     ]
    }
   ],
   "source": [
    "# number of defaults and default percentage\n",
    "print(df['default_flag'].value_counts())\n",
    "print('Default Percentage: ' + (str(round((((len(df[df['default_flag'] == 1]))/len(df))*100), 2))))"
   ]
  },
  {
   "cell_type": "code",
   "execution_count": 23,
   "metadata": {
    "scrolled": false
   },
   "outputs": [
    {
     "data": {
      "text/plain": [
       "user_id              94009\n",
       "id                  302866\n",
       "origination_date       365\n",
       "amount                  17\n",
       "banks                    5\n",
       "location_state           5\n",
       "default_flag             2\n",
       "pay_frequency            4\n",
       "dtype: int64"
      ]
     },
     "execution_count": 23,
     "metadata": {},
     "output_type": "execute_result"
    }
   ],
   "source": [
    "# Inspecting the unique values found in columns\n",
    "df.nunique()"
   ]
  },
  {
   "cell_type": "code",
   "execution_count": null,
   "metadata": {},
   "outputs": [],
   "source": [
    "# There are 94,009 individual users while there are 302,866 advances."
   ]
  },
  {
   "cell_type": "code",
   "execution_count": 28,
   "metadata": {},
   "outputs": [
    {
     "data": {
      "text/plain": [
       "array([170, 130, 140, 150, 120, 180, 200, 240, 220, 110, 210, 230,  80,\n",
       "       160, 190,  90, 100])"
      ]
     },
     "execution_count": 28,
     "metadata": {},
     "output_type": "execute_result"
    }
   ],
   "source": [
    "df['amount'].unique()"
   ]
  },
  {
   "cell_type": "code",
   "execution_count": 29,
   "metadata": {},
   "outputs": [
    {
     "data": {
      "text/plain": [
       "array(['Citi', 'Wells', 'Chime', 'Chase', 'Goliath'], dtype=object)"
      ]
     },
     "execution_count": 29,
     "metadata": {},
     "output_type": "execute_result"
    }
   ],
   "source": [
    "df['banks'].unique()"
   ]
  },
  {
   "cell_type": "code",
   "execution_count": 30,
   "metadata": {},
   "outputs": [
    {
     "data": {
      "text/plain": [
       "array(['NY', 'TX', 'FL', 'GA', 'CA'], dtype=object)"
      ]
     },
     "execution_count": 30,
     "metadata": {},
     "output_type": "execute_result"
    }
   ],
   "source": [
    "df['location_state'].unique()"
   ]
  },
  {
   "cell_type": "code",
   "execution_count": 31,
   "metadata": {},
   "outputs": [
    {
     "data": {
      "text/plain": [
       "array(['Monthly', 'Irregular', 'Weekly', 'Biweekly'], dtype=object)"
      ]
     },
     "execution_count": 31,
     "metadata": {},
     "output_type": "execute_result"
    }
   ],
   "source": [
    "df['pay_frequency'].unique()"
   ]
  },
  {
   "cell_type": "code",
   "execution_count": 26,
   "metadata": {},
   "outputs": [],
   "source": [
    "# convert origination_date to datetime\n",
    "df['origination_date'] = pd.to_datetime(df['origination_date'])"
   ]
  },
  {
   "cell_type": "code",
   "execution_count": null,
   "metadata": {},
   "outputs": [],
   "source": [
    "sns.barplot()"
   ]
  },
  {
   "cell_type": "code",
   "execution_count": null,
   "metadata": {},
   "outputs": [],
   "source": []
  },
  {
   "cell_type": "code",
   "execution_count": null,
   "metadata": {},
   "outputs": [],
   "source": []
  },
  {
   "cell_type": "code",
   "execution_count": null,
   "metadata": {},
   "outputs": [],
   "source": []
  },
  {
   "cell_type": "code",
   "execution_count": null,
   "metadata": {},
   "outputs": [],
   "source": []
  },
  {
   "cell_type": "code",
   "execution_count": null,
   "metadata": {},
   "outputs": [],
   "source": []
  },
  {
   "cell_type": "code",
   "execution_count": null,
   "metadata": {},
   "outputs": [],
   "source": []
  },
  {
   "cell_type": "code",
   "execution_count": null,
   "metadata": {},
   "outputs": [],
   "source": []
  },
  {
   "cell_type": "code",
   "execution_count": null,
   "metadata": {},
   "outputs": [],
   "source": []
  },
  {
   "cell_type": "code",
   "execution_count": null,
   "metadata": {},
   "outputs": [],
   "source": []
  },
  {
   "cell_type": "code",
   "execution_count": null,
   "metadata": {},
   "outputs": [],
   "source": []
  },
  {
   "cell_type": "code",
   "execution_count": null,
   "metadata": {},
   "outputs": [],
   "source": []
  },
  {
   "cell_type": "code",
   "execution_count": null,
   "metadata": {},
   "outputs": [],
   "source": []
  }
 ],
 "metadata": {
  "kernelspec": {
   "display_name": "Python 3",
   "language": "python",
   "name": "python3"
  },
  "language_info": {
   "codemirror_mode": {
    "name": "ipython",
    "version": 3
   },
   "file_extension": ".py",
   "mimetype": "text/x-python",
   "name": "python",
   "nbconvert_exporter": "python",
   "pygments_lexer": "ipython3",
   "version": "3.7.4"
  }
 },
 "nbformat": 4,
 "nbformat_minor": 2
}
