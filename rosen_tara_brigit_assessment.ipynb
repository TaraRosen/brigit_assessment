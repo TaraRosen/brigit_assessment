{
 "cells": [
  {
   "cell_type": "code",
   "execution_count": 29,
   "metadata": {},
   "outputs": [],
   "source": [
    "#import packages\n",
    "import pandas as pd\n",
    "import seaborn as sns\n",
    "import matplotlib as plt"
   ]
  },
  {
   "cell_type": "code",
   "execution_count": 3,
   "metadata": {},
   "outputs": [],
   "source": [
    "# read in file and create dataframe\n",
    "df = pd.read_csv('advance_tape.csv')"
   ]
  },
  {
   "cell_type": "markdown",
   "metadata": {},
   "source": [
    "Please analyze the data and provide us insights about our advance originations and\n",
    "performance data. Produce a light report on your findings.\n",
    "Here are examples of questions we are looking for within the data:\n",
    "1. Default rates by loan amount\n",
    "2. Advance originations by different segmentations"
   ]
  },
  {
   "cell_type": "markdown",
   "metadata": {},
   "source": [
    "## Inspect Data"
   ]
  },
  {
   "cell_type": "code",
   "execution_count": 4,
   "metadata": {
    "scrolled": true
   },
   "outputs": [
    {
     "data": {
      "text/html": [
       "<div>\n",
       "<style scoped>\n",
       "    .dataframe tbody tr th:only-of-type {\n",
       "        vertical-align: middle;\n",
       "    }\n",
       "\n",
       "    .dataframe tbody tr th {\n",
       "        vertical-align: top;\n",
       "    }\n",
       "\n",
       "    .dataframe thead th {\n",
       "        text-align: right;\n",
       "    }\n",
       "</style>\n",
       "<table border=\"1\" class=\"dataframe\">\n",
       "  <thead>\n",
       "    <tr style=\"text-align: right;\">\n",
       "      <th></th>\n",
       "      <th>user_id</th>\n",
       "      <th>id</th>\n",
       "      <th>origination_date</th>\n",
       "      <th>amount</th>\n",
       "      <th>banks</th>\n",
       "      <th>location_state</th>\n",
       "      <th>default_flag</th>\n",
       "      <th>pay_frequency</th>\n",
       "    </tr>\n",
       "  </thead>\n",
       "  <tbody>\n",
       "    <tr>\n",
       "      <td>0</td>\n",
       "      <td>00005d618</td>\n",
       "      <td>dab032b8f</td>\n",
       "      <td>2018-09-18</td>\n",
       "      <td>170</td>\n",
       "      <td>Citi</td>\n",
       "      <td>NY</td>\n",
       "      <td>1</td>\n",
       "      <td>Monthly</td>\n",
       "    </tr>\n",
       "    <tr>\n",
       "      <td>1</td>\n",
       "      <td>00005d618</td>\n",
       "      <td>ef2879a5d</td>\n",
       "      <td>2018-04-27</td>\n",
       "      <td>130</td>\n",
       "      <td>Wells</td>\n",
       "      <td>TX</td>\n",
       "      <td>0</td>\n",
       "      <td>Irregular</td>\n",
       "    </tr>\n",
       "    <tr>\n",
       "      <td>2</td>\n",
       "      <td>0000759ff</td>\n",
       "      <td>8739db27d</td>\n",
       "      <td>2018-04-26</td>\n",
       "      <td>170</td>\n",
       "      <td>Chime</td>\n",
       "      <td>FL</td>\n",
       "      <td>0</td>\n",
       "      <td>Irregular</td>\n",
       "    </tr>\n",
       "    <tr>\n",
       "      <td>3</td>\n",
       "      <td>0000759ff</td>\n",
       "      <td>4d27ee400</td>\n",
       "      <td>2018-11-02</td>\n",
       "      <td>140</td>\n",
       "      <td>Wells</td>\n",
       "      <td>GA</td>\n",
       "      <td>0</td>\n",
       "      <td>Irregular</td>\n",
       "    </tr>\n",
       "    <tr>\n",
       "      <td>4</td>\n",
       "      <td>0000759ff</td>\n",
       "      <td>18e3eb77d</td>\n",
       "      <td>2018-09-01</td>\n",
       "      <td>170</td>\n",
       "      <td>Chase</td>\n",
       "      <td>CA</td>\n",
       "      <td>0</td>\n",
       "      <td>Monthly</td>\n",
       "    </tr>\n",
       "    <tr>\n",
       "      <td>5</td>\n",
       "      <td>000092b1c</td>\n",
       "      <td>0ff223e62</td>\n",
       "      <td>2018-07-18</td>\n",
       "      <td>150</td>\n",
       "      <td>Wells</td>\n",
       "      <td>CA</td>\n",
       "      <td>0</td>\n",
       "      <td>Irregular</td>\n",
       "    </tr>\n",
       "    <tr>\n",
       "      <td>6</td>\n",
       "      <td>000092b1c</td>\n",
       "      <td>d4e023bab</td>\n",
       "      <td>2018-11-27</td>\n",
       "      <td>120</td>\n",
       "      <td>Chime</td>\n",
       "      <td>FL</td>\n",
       "      <td>0</td>\n",
       "      <td>Weekly</td>\n",
       "    </tr>\n",
       "    <tr>\n",
       "      <td>7</td>\n",
       "      <td>000092b1c</td>\n",
       "      <td>375b599a5</td>\n",
       "      <td>2018-08-18</td>\n",
       "      <td>180</td>\n",
       "      <td>Chase</td>\n",
       "      <td>NY</td>\n",
       "      <td>0</td>\n",
       "      <td>Weekly</td>\n",
       "    </tr>\n",
       "    <tr>\n",
       "      <td>8</td>\n",
       "      <td>000092b1c</td>\n",
       "      <td>cdaa1c0bc</td>\n",
       "      <td>2018-06-03</td>\n",
       "      <td>200</td>\n",
       "      <td>Wells</td>\n",
       "      <td>FL</td>\n",
       "      <td>1</td>\n",
       "      <td>Irregular</td>\n",
       "    </tr>\n",
       "    <tr>\n",
       "      <td>9</td>\n",
       "      <td>000092b1c</td>\n",
       "      <td>cfa53eb7f</td>\n",
       "      <td>2018-12-16</td>\n",
       "      <td>240</td>\n",
       "      <td>Chase</td>\n",
       "      <td>FL</td>\n",
       "      <td>0</td>\n",
       "      <td>Monthly</td>\n",
       "    </tr>\n",
       "  </tbody>\n",
       "</table>\n",
       "</div>"
      ],
      "text/plain": [
       "     user_id         id origination_date  amount  banks location_state  \\\n",
       "0  00005d618  dab032b8f       2018-09-18     170   Citi             NY   \n",
       "1  00005d618  ef2879a5d       2018-04-27     130  Wells             TX   \n",
       "2  0000759ff  8739db27d       2018-04-26     170  Chime             FL   \n",
       "3  0000759ff  4d27ee400       2018-11-02     140  Wells             GA   \n",
       "4  0000759ff  18e3eb77d       2018-09-01     170  Chase             CA   \n",
       "5  000092b1c  0ff223e62       2018-07-18     150  Wells             CA   \n",
       "6  000092b1c  d4e023bab       2018-11-27     120  Chime             FL   \n",
       "7  000092b1c  375b599a5       2018-08-18     180  Chase             NY   \n",
       "8  000092b1c  cdaa1c0bc       2018-06-03     200  Wells             FL   \n",
       "9  000092b1c  cfa53eb7f       2018-12-16     240  Chase             FL   \n",
       "\n",
       "   default_flag pay_frequency  \n",
       "0             1       Monthly  \n",
       "1             0     Irregular  \n",
       "2             0     Irregular  \n",
       "3             0     Irregular  \n",
       "4             0       Monthly  \n",
       "5             0     Irregular  \n",
       "6             0        Weekly  \n",
       "7             0        Weekly  \n",
       "8             1     Irregular  \n",
       "9             0       Monthly  "
      ]
     },
     "execution_count": 4,
     "metadata": {},
     "output_type": "execute_result"
    }
   ],
   "source": [
    "df.head(10)"
   ]
  },
  {
   "cell_type": "markdown",
   "metadata": {},
   "source": [
    "### Features:\n",
    "● User_id - Identifier for users\n",
    "● Id - Unique identifier for advances\n",
    "● Origination Date- Date of Advance Origination\n",
    "● Amount - Origination Amount\n",
    "● Location_State - State of Origination of Advance\n",
    "● Banks - Bank of Borrower’s Depository Account\n",
    "● Pay Frequency - Frequency of borrowers paycheck\n",
    "● Default Flag - Advance has defaulted (Not repaid advance)"
   ]
  },
  {
   "cell_type": "code",
   "execution_count": 5,
   "metadata": {},
   "outputs": [
    {
     "data": {
      "text/plain": [
       "(302866, 8)"
      ]
     },
     "execution_count": 5,
     "metadata": {},
     "output_type": "execute_result"
    }
   ],
   "source": [
    "df.shape"
   ]
  },
  {
   "cell_type": "markdown",
   "metadata": {},
   "source": [
    "There are 302,866 unique advances and 8 features in this dataset."
   ]
  },
  {
   "cell_type": "code",
   "execution_count": 6,
   "metadata": {},
   "outputs": [
    {
     "name": "stdout",
     "output_type": "stream",
     "text": [
      "<class 'pandas.core.frame.DataFrame'>\n",
      "RangeIndex: 302866 entries, 0 to 302865\n",
      "Data columns (total 8 columns):\n",
      "user_id             302866 non-null object\n",
      "id                  302866 non-null object\n",
      "origination_date    302866 non-null object\n",
      "amount              302866 non-null int64\n",
      "banks               302866 non-null object\n",
      "location_state      302866 non-null object\n",
      "default_flag        302866 non-null int64\n",
      "pay_frequency       302866 non-null object\n",
      "dtypes: int64(2), object(6)\n",
      "memory usage: 18.5+ MB\n"
     ]
    }
   ],
   "source": [
    "df.info()"
   ]
  },
  {
   "cell_type": "code",
   "execution_count": 7,
   "metadata": {
    "scrolled": false
   },
   "outputs": [
    {
     "data": {
      "text/html": [
       "<div>\n",
       "<style scoped>\n",
       "    .dataframe tbody tr th:only-of-type {\n",
       "        vertical-align: middle;\n",
       "    }\n",
       "\n",
       "    .dataframe tbody tr th {\n",
       "        vertical-align: top;\n",
       "    }\n",
       "\n",
       "    .dataframe thead th {\n",
       "        text-align: right;\n",
       "    }\n",
       "</style>\n",
       "<table border=\"1\" class=\"dataframe\">\n",
       "  <thead>\n",
       "    <tr style=\"text-align: right;\">\n",
       "      <th></th>\n",
       "      <th>amount</th>\n",
       "      <th>default_flag</th>\n",
       "    </tr>\n",
       "  </thead>\n",
       "  <tbody>\n",
       "    <tr>\n",
       "      <td>count</td>\n",
       "      <td>302866.000000</td>\n",
       "      <td>302866.000000</td>\n",
       "    </tr>\n",
       "    <tr>\n",
       "      <td>mean</td>\n",
       "      <td>160.166212</td>\n",
       "      <td>0.179142</td>\n",
       "    </tr>\n",
       "    <tr>\n",
       "      <td>std</td>\n",
       "      <td>48.944875</td>\n",
       "      <td>0.383472</td>\n",
       "    </tr>\n",
       "    <tr>\n",
       "      <td>min</td>\n",
       "      <td>80.000000</td>\n",
       "      <td>0.000000</td>\n",
       "    </tr>\n",
       "    <tr>\n",
       "      <td>25%</td>\n",
       "      <td>120.000000</td>\n",
       "      <td>0.000000</td>\n",
       "    </tr>\n",
       "    <tr>\n",
       "      <td>50%</td>\n",
       "      <td>160.000000</td>\n",
       "      <td>0.000000</td>\n",
       "    </tr>\n",
       "    <tr>\n",
       "      <td>75%</td>\n",
       "      <td>200.000000</td>\n",
       "      <td>0.000000</td>\n",
       "    </tr>\n",
       "    <tr>\n",
       "      <td>max</td>\n",
       "      <td>240.000000</td>\n",
       "      <td>1.000000</td>\n",
       "    </tr>\n",
       "  </tbody>\n",
       "</table>\n",
       "</div>"
      ],
      "text/plain": [
       "              amount   default_flag\n",
       "count  302866.000000  302866.000000\n",
       "mean      160.166212       0.179142\n",
       "std        48.944875       0.383472\n",
       "min        80.000000       0.000000\n",
       "25%       120.000000       0.000000\n",
       "50%       160.000000       0.000000\n",
       "75%       200.000000       0.000000\n",
       "max       240.000000       1.000000"
      ]
     },
     "execution_count": 7,
     "metadata": {},
     "output_type": "execute_result"
    }
   ],
   "source": [
    "df.describe()"
   ]
  },
  {
   "cell_type": "code",
   "execution_count": 8,
   "metadata": {},
   "outputs": [
    {
     "data": {
      "text/plain": [
       "user_id             0\n",
       "id                  0\n",
       "origination_date    0\n",
       "amount              0\n",
       "banks               0\n",
       "location_state      0\n",
       "default_flag        0\n",
       "pay_frequency       0\n",
       "dtype: int64"
      ]
     },
     "execution_count": 8,
     "metadata": {},
     "output_type": "execute_result"
    }
   ],
   "source": [
    "# check for any null values\n",
    "df.isnull().sum()"
   ]
  },
  {
   "cell_type": "code",
   "execution_count": 9,
   "metadata": {},
   "outputs": [],
   "source": [
    "# convert origination_date to datetime\n",
    "df['origination_date'] = pd.to_datetime(df['origination_date'])"
   ]
  },
  {
   "cell_type": "code",
   "execution_count": 21,
   "metadata": {},
   "outputs": [
    {
     "name": "stdout",
     "output_type": "stream",
     "text": [
      "0    248610\n",
      "1     54256\n",
      "Name: default_flag, dtype: int64\n",
      "Default Percentage: 17.91\n"
     ]
    }
   ],
   "source": [
    "# number of defaults and default percentage\n",
    "print(df['default_flag'].value_counts())\n",
    "print('Default Percentage: ' + (str(round(df['default_flag'].mean()*100, 2))))"
   ]
  },
  {
   "cell_type": "code",
   "execution_count": 11,
   "metadata": {
    "scrolled": true
   },
   "outputs": [
    {
     "data": {
      "text/plain": [
       "user_id              94009\n",
       "id                  302866\n",
       "origination_date       365\n",
       "amount                  17\n",
       "banks                    5\n",
       "location_state           5\n",
       "default_flag             2\n",
       "pay_frequency            4\n",
       "dtype: int64"
      ]
     },
     "execution_count": 11,
     "metadata": {},
     "output_type": "execute_result"
    }
   ],
   "source": [
    "# Inspecting the unique values found in columns\n",
    "df.nunique()"
   ]
  },
  {
   "cell_type": "code",
   "execution_count": 159,
   "metadata": {},
   "outputs": [
    {
     "data": {
      "text/plain": [
       "302866"
      ]
     },
     "execution_count": 159,
     "metadata": {},
     "output_type": "execute_result"
    }
   ],
   "source": [
    "len(df['id'].unique())"
   ]
  },
  {
   "cell_type": "code",
   "execution_count": 12,
   "metadata": {},
   "outputs": [],
   "source": [
    "# There are 94,009 individual users while there are 302,866 advances."
   ]
  },
  {
   "cell_type": "code",
   "execution_count": 13,
   "metadata": {},
   "outputs": [
    {
     "data": {
      "text/plain": [
       "array([170, 130, 140, 150, 120, 180, 200, 240, 220, 110, 210, 230,  80,\n",
       "       160, 190,  90, 100])"
      ]
     },
     "execution_count": 13,
     "metadata": {},
     "output_type": "execute_result"
    }
   ],
   "source": [
    "df['amount'].unique()"
   ]
  },
  {
   "cell_type": "code",
   "execution_count": 41,
   "metadata": {},
   "outputs": [
    {
     "name": "stdout",
     "output_type": "stream",
     "text": [
      "80\n",
      "240\n"
     ]
    }
   ],
   "source": [
    "print(df['amount'].min())\n",
    "print(df['amount'].max())"
   ]
  },
  {
   "cell_type": "code",
   "execution_count": 14,
   "metadata": {},
   "outputs": [
    {
     "data": {
      "text/plain": [
       "array(['Citi', 'Wells', 'Chime', 'Chase', 'Goliath'], dtype=object)"
      ]
     },
     "execution_count": 14,
     "metadata": {},
     "output_type": "execute_result"
    }
   ],
   "source": [
    "df['banks'].unique()"
   ]
  },
  {
   "cell_type": "code",
   "execution_count": 15,
   "metadata": {},
   "outputs": [
    {
     "data": {
      "text/plain": [
       "array(['NY', 'TX', 'FL', 'GA', 'CA'], dtype=object)"
      ]
     },
     "execution_count": 15,
     "metadata": {},
     "output_type": "execute_result"
    }
   ],
   "source": [
    "df['location_state'].unique()"
   ]
  },
  {
   "cell_type": "code",
   "execution_count": 16,
   "metadata": {},
   "outputs": [
    {
     "data": {
      "text/plain": [
       "array(['Monthly', 'Irregular', 'Weekly', 'Biweekly'], dtype=object)"
      ]
     },
     "execution_count": 16,
     "metadata": {},
     "output_type": "execute_result"
    }
   ],
   "source": [
    "df['pay_frequency'].unique()"
   ]
  },
  {
   "cell_type": "code",
   "execution_count": 149,
   "metadata": {},
   "outputs": [],
   "source": [
    "# create function to calculate the default percentage based on bank/total defaults  \n",
    "def def_by_bank(bank, df):\n",
    "    banks = []\n",
    "    for b in df[bank].unique():\n",
    "        banks.append(str(b) + ' Default Percentage: ' + \\\n",
    "                     (str(round(((len(df[(df['default_flag'] == 1) & \\\n",
    "                                         (df['banks'] == b)]))/54256*100), 2))))\n",
    "    return banks\n",
    "\n",
    "# create function to calculate the default percentage based on amount/total defaults  \n",
    "def def_by_amount(amount, df):\n",
    "    amounts = []\n",
    "    for a in df[amount].unique():\n",
    "         amounts.append(str(a) + ' Loan Amount Default Percentage: ' + \\\n",
    "                        (str(round(((len(df[(df['default_flag'] == 1) & \\\n",
    "                                            (df['amount'] == a)]))/(len(df[df['default_flag'] == 1]))*100), 2))))\n",
    "    return amounts\n",
    "\n",
    "# create function to calculate the default percentage based on pay_frequency/total defaults  \n",
    "def def_pay_freq(frequency, df):\n",
    "    pay_freq = []\n",
    "    for f in df[frequency].unique():\n",
    "        pay_freq.append(str(f) + ' Default Percentage: ' + \\\n",
    "                        (str(round(((len(df[(df['default_flag'] == 1) & \\\n",
    "                                            (df['pay_frequency'] == f)]))/(len(df[df['default_flag'] == 1]))*100), 2))))\n",
    "    return pay_freq"
   ]
  },
  {
   "cell_type": "code",
   "execution_count": 235,
   "metadata": {},
   "outputs": [],
   "source": [
    "# create function to calculate the default percentage based on state/total defaults  \n",
    "def by_state(state, df):\n",
    "    state_def_of_total_def = []\n",
    "    state_def_of_total_adv = []\n",
    "    ratio_to_total_adv = []\n",
    "    \n",
    "    for s in df[state].unique():\n",
    "        state_def_of_total_def.append(str(s) + ' Default Percentage Of Total Defaults: ' + \\\n",
    "                      (str(round(((len(df[(df['default_flag'] == 1) & \\\n",
    "                                          (df['location_state'] == s)]))/ (len(df[df['default_flag'] == 1]))*100), 2))))\n",
    "        state_def_of_total_adv.append(str(s) + ' Default Percentage Of Total Advances: ' + \\\n",
    "                                     (str(round(((len(df[(df['default_flag'] == 1) & \\\n",
    "                                          (df['location_state'] == s)]))/ (len(df['id']))*100), 2))))\n",
    "        ratio_to_total_adv.append(str(s) + ' Ratio Of Defaults To Total Advances: ' + \\\n",
    "                                  (str(len(df[(df['location_state'] == s) & \\\n",
    "                                          (df['default_flag'] == 1)])/(df['location_state'] == s).sum())))\n",
    "    return state_def_of_total_def, state_def_of_total_adv, ratio_to_total_adv"
   ]
  },
  {
   "cell_type": "code",
   "execution_count": 236,
   "metadata": {},
   "outputs": [
    {
     "data": {
      "text/plain": [
       "(['NY Default Percentage Of Total Defaults: 21.06',\n",
       "  'TX Default Percentage Of Total Defaults: 27.79',\n",
       "  'FL Default Percentage Of Total Defaults: 18.56',\n",
       "  'GA Default Percentage Of Total Defaults: 9.32',\n",
       "  'CA Default Percentage Of Total Defaults: 23.28'],\n",
       " ['NY Default Percentage Of Total Advances: 3.77',\n",
       "  'TX Default Percentage Of Total Advances: 4.98',\n",
       "  'FL Default Percentage Of Total Advances: 3.32',\n",
       "  'GA Default Percentage Of Total Advances: 1.67',\n",
       "  'CA Default Percentage Of Total Advances: 4.17'],\n",
       " ['NY Ratio Of Defaults To Total Advances: 0.25220193814706077',\n",
       "  'TX Ratio Of Defaults To Total Advances: 0.16605730898839283',\n",
       "  'FL Ratio Of Defaults To Total Advances: 0.166556389982466',\n",
       "  'GA Ratio Of Defaults To Total Advances: 0.1674119712478055',\n",
       "  'CA Ratio Of Defaults To Total Advances: 0.16591780965894162'])"
      ]
     },
     "execution_count": 236,
     "metadata": {},
     "output_type": "execute_result"
    }
   ],
   "source": [
    "by_state('location_state', df)"
   ]
  },
  {
   "cell_type": "code",
   "execution_count": 205,
   "metadata": {},
   "outputs": [
    {
     "data": {
      "text/plain": [
       "0.16605730898839283"
      ]
     },
     "execution_count": 205,
     "metadata": {},
     "output_type": "execute_result"
    }
   ],
   "source": [
    "(len(df[(df['location_state'] == 'TX') & (df['default_flag'] == 1)])/(df['location_state'] == 'TX').sum())"
   ]
  },
  {
   "cell_type": "code",
   "execution_count": 218,
   "metadata": {},
   "outputs": [
    {
     "data": {
      "text/plain": [
       "302866"
      ]
     },
     "execution_count": 218,
     "metadata": {},
     "output_type": "execute_result"
    }
   ],
   "source": [
    "len(df['id'])"
   ]
  },
  {
   "cell_type": "code",
   "execution_count": 223,
   "metadata": {},
   "outputs": [
    {
     "ename": "TypeError",
     "evalue": "type tuple doesn't define __round__ method",
     "output_type": "error",
     "traceback": [
      "\u001b[0;31m---------------------------------------------------------------------------\u001b[0m",
      "\u001b[0;31mTypeError\u001b[0m                                 Traceback (most recent call last)",
      "\u001b[0;32m<ipython-input-223-fbef52c30c8d>\u001b[0m in \u001b[0;36m<module>\u001b[0;34m\u001b[0m\n\u001b[0;32m----> 1\u001b[0;31m \u001b[0mstr\u001b[0m\u001b[0;34m(\u001b[0m\u001b[0mround\u001b[0m\u001b[0;34m(\u001b[0m\u001b[0;34m(\u001b[0m\u001b[0;34m(\u001b[0m\u001b[0mlen\u001b[0m\u001b[0;34m(\u001b[0m\u001b[0mdf\u001b[0m\u001b[0;34m[\u001b[0m\u001b[0;34m(\u001b[0m\u001b[0mdf\u001b[0m\u001b[0;34m[\u001b[0m\u001b[0;34m'default_flag'\u001b[0m\u001b[0;34m]\u001b[0m \u001b[0;34m==\u001b[0m \u001b[0;36m1\u001b[0m\u001b[0;34m)\u001b[0m \u001b[0;34m&\u001b[0m \u001b[0;34m(\u001b[0m\u001b[0mdf\u001b[0m\u001b[0;34m[\u001b[0m\u001b[0;34m'location_state'\u001b[0m\u001b[0;34m]\u001b[0m \u001b[0;34m==\u001b[0m \u001b[0;34m'TX'\u001b[0m\u001b[0;34m)\u001b[0m\u001b[0;34m]\u001b[0m\u001b[0;34m)\u001b[0m\u001b[0;34m)\u001b[0m\u001b[0;34m/\u001b[0m\u001b[0;36m302866\u001b[0m\u001b[0;34m*\u001b[0m\u001b[0;36m100\u001b[0m\u001b[0;34m,\u001b[0m \u001b[0;36m2\u001b[0m\u001b[0;34m)\u001b[0m\u001b[0;34m)\u001b[0m\u001b[0;34m)\u001b[0m\u001b[0;34m\u001b[0m\u001b[0;34m\u001b[0m\u001b[0m\n\u001b[0m",
      "\u001b[0;31mTypeError\u001b[0m: type tuple doesn't define __round__ method"
     ]
    }
   ],
   "source": [
    "str(round(((len(df[(df['default_flag'] == 1) & (df['location_state'] == 'TX')]))/302866*100, 2)))"
   ]
  },
  {
   "cell_type": "code",
   "execution_count": 152,
   "metadata": {},
   "outputs": [
    {
     "data": {
      "text/plain": [
       "['170 Loan Amount Default Percentage: 5.96',\n",
       " '130 Loan Amount Default Percentage: 5.77',\n",
       " '140 Loan Amount Default Percentage: 6.05',\n",
       " '150 Loan Amount Default Percentage: 5.97',\n",
       " '120 Loan Amount Default Percentage: 6.04',\n",
       " '180 Loan Amount Default Percentage: 5.88',\n",
       " '200 Loan Amount Default Percentage: 5.73',\n",
       " '240 Loan Amount Default Percentage: 5.72',\n",
       " '220 Loan Amount Default Percentage: 5.89',\n",
       " '110 Loan Amount Default Percentage: 5.74',\n",
       " '210 Loan Amount Default Percentage: 5.91',\n",
       " '230 Loan Amount Default Percentage: 6.12',\n",
       " '80 Loan Amount Default Percentage: 5.86',\n",
       " '160 Loan Amount Default Percentage: 5.88',\n",
       " '190 Loan Amount Default Percentage: 5.71',\n",
       " '90 Loan Amount Default Percentage: 5.79',\n",
       " '100 Loan Amount Default Percentage: 5.99']"
      ]
     },
     "execution_count": 152,
     "metadata": {},
     "output_type": "execute_result"
    }
   ],
   "source": [
    "def_by_amount('amount', df)"
   ]
  },
  {
   "cell_type": "code",
   "execution_count": 153,
   "metadata": {},
   "outputs": [
    {
     "data": {
      "text/plain": [
       "['Citi Default Percentage: 15.04',\n",
       " 'Wells Default Percentage: 19.77',\n",
       " 'Chime Default Percentage: 10.02',\n",
       " 'Chase Default Percentage: 25.01',\n",
       " 'Goliath Default Percentage: 30.17']"
      ]
     },
     "execution_count": 153,
     "metadata": {},
     "output_type": "execute_result"
    }
   ],
   "source": [
    "def_by_bank('banks', df)"
   ]
  },
  {
   "cell_type": "code",
   "execution_count": 154,
   "metadata": {},
   "outputs": [
    {
     "data": {
      "text/plain": [
       "['Monthly Default Percentage: 19.73',\n",
       " 'Irregular Default Percentage: 25.06',\n",
       " 'Weekly Default Percentage: 30.0',\n",
       " 'Biweekly Default Percentage: 25.21']"
      ]
     },
     "execution_count": 154,
     "metadata": {},
     "output_type": "execute_result"
    }
   ],
   "source": [
    "def_pay_freq('pay_frequency', df)"
   ]
  },
  {
   "cell_type": "code",
   "execution_count": 118,
   "metadata": {},
   "outputs": [],
   "source": []
  },
  {
   "cell_type": "code",
   "execution_count": null,
   "metadata": {},
   "outputs": [],
   "source": []
  },
  {
   "cell_type": "code",
   "execution_count": null,
   "metadata": {},
   "outputs": [],
   "source": []
  },
  {
   "cell_type": "markdown",
   "metadata": {},
   "source": [
    "## Visualize Data"
   ]
  },
  {
   "cell_type": "code",
   "execution_count": 17,
   "metadata": {},
   "outputs": [
    {
     "data": {
      "image/png": "[encoded data removed]",
      "text/plain": [
       "<Figure size 432x288 with 1 Axes>"
      ]
     },
     "metadata": {
      "needs_background": "light"
     },
     "output_type": "display_data"
    }
   ],
   "source": [
    "ax = sns.countplot(x=\"default_flag\", hue=\"location_state\", data=df)"
   ]
  },
  {
   "cell_type": "code",
   "execution_count": 27,
   "metadata": {
    "scrolled": true
   },
   "outputs": [
    {
     "data": {
      "text/html": [
       "<div>\n",
       "<style scoped>\n",
       "    .dataframe tbody tr th:only-of-type {\n",
       "        vertical-align: middle;\n",
       "    }\n",
       "\n",
       "    .dataframe tbody tr th {\n",
       "        vertical-align: top;\n",
       "    }\n",
       "\n",
       "    .dataframe thead th {\n",
       "        text-align: right;\n",
       "    }\n",
       "</style>\n",
       "<table border=\"1\" class=\"dataframe\">\n",
       "  <thead>\n",
       "    <tr style=\"text-align: right;\">\n",
       "      <th></th>\n",
       "      <th></th>\n",
       "      <th>user_id</th>\n",
       "      <th>id</th>\n",
       "      <th>origination_date</th>\n",
       "      <th>amount</th>\n",
       "      <th>banks</th>\n",
       "      <th>pay_frequency</th>\n",
       "    </tr>\n",
       "    <tr>\n",
       "      <th>location_state</th>\n",
       "      <th>default_flag</th>\n",
       "      <th></th>\n",
       "      <th></th>\n",
       "      <th></th>\n",
       "      <th></th>\n",
       "      <th></th>\n",
       "      <th></th>\n",
       "    </tr>\n",
       "  </thead>\n",
       "  <tbody>\n",
       "    <tr>\n",
       "      <td rowspan=\"2\" valign=\"top\">CA</td>\n",
       "      <td>0</td>\n",
       "      <td>63487</td>\n",
       "      <td>63487</td>\n",
       "      <td>63487</td>\n",
       "      <td>63487</td>\n",
       "      <td>63487</td>\n",
       "      <td>63487</td>\n",
       "    </tr>\n",
       "    <tr>\n",
       "      <td>1</td>\n",
       "      <td>12629</td>\n",
       "      <td>12629</td>\n",
       "      <td>12629</td>\n",
       "      <td>12629</td>\n",
       "      <td>12629</td>\n",
       "      <td>12629</td>\n",
       "    </tr>\n",
       "    <tr>\n",
       "      <td rowspan=\"2\" valign=\"top\">FL</td>\n",
       "      <td>0</td>\n",
       "      <td>50385</td>\n",
       "      <td>50385</td>\n",
       "      <td>50385</td>\n",
       "      <td>50385</td>\n",
       "      <td>50385</td>\n",
       "      <td>50385</td>\n",
       "    </tr>\n",
       "    <tr>\n",
       "      <td>1</td>\n",
       "      <td>10069</td>\n",
       "      <td>10069</td>\n",
       "      <td>10069</td>\n",
       "      <td>10069</td>\n",
       "      <td>10069</td>\n",
       "      <td>10069</td>\n",
       "    </tr>\n",
       "    <tr>\n",
       "      <td rowspan=\"2\" valign=\"top\">GA</td>\n",
       "      <td>0</td>\n",
       "      <td>25135</td>\n",
       "      <td>25135</td>\n",
       "      <td>25135</td>\n",
       "      <td>25135</td>\n",
       "      <td>25135</td>\n",
       "      <td>25135</td>\n",
       "    </tr>\n",
       "    <tr>\n",
       "      <td>1</td>\n",
       "      <td>5054</td>\n",
       "      <td>5054</td>\n",
       "      <td>5054</td>\n",
       "      <td>5054</td>\n",
       "      <td>5054</td>\n",
       "      <td>5054</td>\n",
       "    </tr>\n",
       "    <tr>\n",
       "      <td rowspan=\"2\" valign=\"top\">NY</td>\n",
       "      <td>0</td>\n",
       "      <td>33876</td>\n",
       "      <td>33876</td>\n",
       "      <td>33876</td>\n",
       "      <td>33876</td>\n",
       "      <td>33876</td>\n",
       "      <td>33876</td>\n",
       "    </tr>\n",
       "    <tr>\n",
       "      <td>1</td>\n",
       "      <td>11425</td>\n",
       "      <td>11425</td>\n",
       "      <td>11425</td>\n",
       "      <td>11425</td>\n",
       "      <td>11425</td>\n",
       "      <td>11425</td>\n",
       "    </tr>\n",
       "    <tr>\n",
       "      <td rowspan=\"2\" valign=\"top\">TX</td>\n",
       "      <td>0</td>\n",
       "      <td>75727</td>\n",
       "      <td>75727</td>\n",
       "      <td>75727</td>\n",
       "      <td>75727</td>\n",
       "      <td>75727</td>\n",
       "      <td>75727</td>\n",
       "    </tr>\n",
       "    <tr>\n",
       "      <td>1</td>\n",
       "      <td>15079</td>\n",
       "      <td>15079</td>\n",
       "      <td>15079</td>\n",
       "      <td>15079</td>\n",
       "      <td>15079</td>\n",
       "      <td>15079</td>\n",
       "    </tr>\n",
       "  </tbody>\n",
       "</table>\n",
       "</div>"
      ],
      "text/plain": [
       "                             user_id     id  origination_date  amount  banks  \\\n",
       "location_state default_flag                                                    \n",
       "CA             0               63487  63487             63487   63487  63487   \n",
       "               1               12629  12629             12629   12629  12629   \n",
       "FL             0               50385  50385             50385   50385  50385   \n",
       "               1               10069  10069             10069   10069  10069   \n",
       "GA             0               25135  25135             25135   25135  25135   \n",
       "               1                5054   5054              5054    5054   5054   \n",
       "NY             0               33876  33876             33876   33876  33876   \n",
       "               1               11425  11425             11425   11425  11425   \n",
       "TX             0               75727  75727             75727   75727  75727   \n",
       "               1               15079  15079             15079   15079  15079   \n",
       "\n",
       "                             pay_frequency  \n",
       "location_state default_flag                 \n",
       "CA             0                     63487  \n",
       "               1                     12629  \n",
       "FL             0                     50385  \n",
       "               1                     10069  \n",
       "GA             0                     25135  \n",
       "               1                      5054  \n",
       "NY             0                     33876  \n",
       "               1                     11425  \n",
       "TX             0                     75727  \n",
       "               1                     15079  "
      ]
     },
     "execution_count": 27,
     "metadata": {},
     "output_type": "execute_result"
    }
   ],
   "source": [
    "df.groupby([\"location_state\", \"default_flag\"]).count()"
   ]
  },
  {
   "cell_type": "code",
   "execution_count": 49,
   "metadata": {},
   "outputs": [
    {
     "data": {
      "text/html": [
       "<div>\n",
       "<style scoped>\n",
       "    .dataframe tbody tr th:only-of-type {\n",
       "        vertical-align: middle;\n",
       "    }\n",
       "\n",
       "    .dataframe tbody tr th {\n",
       "        vertical-align: top;\n",
       "    }\n",
       "\n",
       "    .dataframe thead th {\n",
       "        text-align: right;\n",
       "    }\n",
       "</style>\n",
       "<table border=\"1\" class=\"dataframe\">\n",
       "  <thead>\n",
       "    <tr style=\"text-align: right;\">\n",
       "      <th></th>\n",
       "      <th></th>\n",
       "      <th>user_id</th>\n",
       "      <th>id</th>\n",
       "      <th>origination_date</th>\n",
       "      <th>amount</th>\n",
       "      <th>banks</th>\n",
       "      <th>location_state</th>\n",
       "    </tr>\n",
       "    <tr>\n",
       "      <th>pay_frequency</th>\n",
       "      <th>default_flag</th>\n",
       "      <th></th>\n",
       "      <th></th>\n",
       "      <th></th>\n",
       "      <th></th>\n",
       "      <th></th>\n",
       "      <th></th>\n",
       "    </tr>\n",
       "  </thead>\n",
       "  <tbody>\n",
       "    <tr>\n",
       "      <td rowspan=\"2\" valign=\"top\">Biweekly</td>\n",
       "      <td>0</td>\n",
       "      <td>62311</td>\n",
       "      <td>62311</td>\n",
       "      <td>62311</td>\n",
       "      <td>62311</td>\n",
       "      <td>62311</td>\n",
       "      <td>62311</td>\n",
       "    </tr>\n",
       "    <tr>\n",
       "      <td>1</td>\n",
       "      <td>13677</td>\n",
       "      <td>13677</td>\n",
       "      <td>13677</td>\n",
       "      <td>13677</td>\n",
       "      <td>13677</td>\n",
       "      <td>13677</td>\n",
       "    </tr>\n",
       "    <tr>\n",
       "      <td rowspan=\"2\" valign=\"top\">Irregular</td>\n",
       "      <td>0</td>\n",
       "      <td>62260</td>\n",
       "      <td>62260</td>\n",
       "      <td>62260</td>\n",
       "      <td>62260</td>\n",
       "      <td>62260</td>\n",
       "      <td>62260</td>\n",
       "    </tr>\n",
       "    <tr>\n",
       "      <td>1</td>\n",
       "      <td>13597</td>\n",
       "      <td>13597</td>\n",
       "      <td>13597</td>\n",
       "      <td>13597</td>\n",
       "      <td>13597</td>\n",
       "      <td>13597</td>\n",
       "    </tr>\n",
       "    <tr>\n",
       "      <td rowspan=\"2\" valign=\"top\">Monthly</td>\n",
       "      <td>0</td>\n",
       "      <td>49613</td>\n",
       "      <td>49613</td>\n",
       "      <td>49613</td>\n",
       "      <td>49613</td>\n",
       "      <td>49613</td>\n",
       "      <td>49613</td>\n",
       "    </tr>\n",
       "    <tr>\n",
       "      <td>1</td>\n",
       "      <td>10704</td>\n",
       "      <td>10704</td>\n",
       "      <td>10704</td>\n",
       "      <td>10704</td>\n",
       "      <td>10704</td>\n",
       "      <td>10704</td>\n",
       "    </tr>\n",
       "    <tr>\n",
       "      <td rowspan=\"2\" valign=\"top\">Weekly</td>\n",
       "      <td>0</td>\n",
       "      <td>74426</td>\n",
       "      <td>74426</td>\n",
       "      <td>74426</td>\n",
       "      <td>74426</td>\n",
       "      <td>74426</td>\n",
       "      <td>74426</td>\n",
       "    </tr>\n",
       "    <tr>\n",
       "      <td>1</td>\n",
       "      <td>16278</td>\n",
       "      <td>16278</td>\n",
       "      <td>16278</td>\n",
       "      <td>16278</td>\n",
       "      <td>16278</td>\n",
       "      <td>16278</td>\n",
       "    </tr>\n",
       "  </tbody>\n",
       "</table>\n",
       "</div>"
      ],
      "text/plain": [
       "                            user_id     id  origination_date  amount  banks  \\\n",
       "pay_frequency default_flag                                                    \n",
       "Biweekly      0               62311  62311             62311   62311  62311   \n",
       "              1               13677  13677             13677   13677  13677   \n",
       "Irregular     0               62260  62260             62260   62260  62260   \n",
       "              1               13597  13597             13597   13597  13597   \n",
       "Monthly       0               49613  49613             49613   49613  49613   \n",
       "              1               10704  10704             10704   10704  10704   \n",
       "Weekly        0               74426  74426             74426   74426  74426   \n",
       "              1               16278  16278             16278   16278  16278   \n",
       "\n",
       "                            location_state  \n",
       "pay_frequency default_flag                  \n",
       "Biweekly      0                      62311  \n",
       "              1                      13677  \n",
       "Irregular     0                      62260  \n",
       "              1                      13597  \n",
       "Monthly       0                      49613  \n",
       "              1                      10704  \n",
       "Weekly        0                      74426  \n",
       "              1                      16278  "
      ]
     },
     "execution_count": 49,
     "metadata": {},
     "output_type": "execute_result"
    }
   ],
   "source": [
    "df.groupby([\"pay_frequency\", \"default_flag\"]).count()"
   ]
  },
  {
   "cell_type": "code",
   "execution_count": null,
   "metadata": {},
   "outputs": [],
   "source": []
  },
  {
   "cell_type": "code",
   "execution_count": null,
   "metadata": {},
   "outputs": [],
   "source": []
  },
  {
   "cell_type": "code",
   "execution_count": null,
   "metadata": {},
   "outputs": [],
   "source": []
  },
  {
   "cell_type": "code",
   "execution_count": 38,
   "metadata": {},
   "outputs": [
    {
     "data": {
      "text/plain": [
       "<matplotlib.axes._subplots.AxesSubplot at 0x1a1f4b5790>"
      ]
     },
     "execution_count": 38,
     "metadata": {},
     "output_type": "execute_result"
    },
    {
     "data": {
      "image/png": "[encoded data removed]",
      "text/plain": [
       "<Figure size 432x288 with 1 Axes>"
      ]
     },
     "metadata": {
      "needs_background": "light"
     },
     "output_type": "display_data"
    }
   ],
   "source": [
    "df.groupby([\"location_state\", \"default_flag\"]).count().plot(kind='bar')"
   ]
  },
  {
   "cell_type": "code",
   "execution_count": null,
   "metadata": {},
   "outputs": [],
   "source": []
  },
  {
   "cell_type": "code",
   "execution_count": null,
   "metadata": {},
   "outputs": [],
   "source": []
  },
  {
   "cell_type": "code",
   "execution_count": null,
   "metadata": {},
   "outputs": [],
   "source": []
  },
  {
   "cell_type": "code",
   "execution_count": null,
   "metadata": {},
   "outputs": [],
   "source": []
  },
  {
   "cell_type": "code",
   "execution_count": null,
   "metadata": {},
   "outputs": [],
   "source": []
  },
  {
   "cell_type": "code",
   "execution_count": null,
   "metadata": {},
   "outputs": [],
   "source": []
  },
  {
   "cell_type": "code",
   "execution_count": null,
   "metadata": {},
   "outputs": [],
   "source": []
  },
  {
   "cell_type": "code",
   "execution_count": null,
   "metadata": {},
   "outputs": [],
   "source": []
  }
 ],
 "metadata": {
  "kernelspec": {
   "display_name": "Python 3",
   "language": "python",
   "name": "python3"
  },
  "language_info": {
   "codemirror_mode": {
    "name": "ipython",
    "version": 3
   },
   "file_extension": ".py",
   "mimetype": "text/x-python",
   "name": "python",
   "nbconvert_exporter": "python",
   "pygments_lexer": "ipython3",
   "version": "3.7.4"
  }
 },
 "nbformat": 4,
 "nbformat_minor": 2
}
